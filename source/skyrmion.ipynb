{
 "cells": [
  {
   "cell_type": "markdown",
   "metadata": {},
   "source": [
    "# Sky-MoCa -- Simulated Annealing for a 3D Spin Lattice"
   ]
  },
  {
   "cell_type": "markdown",
   "metadata": {},
   "source": [
    "## TODOS\n",
    "\n",
    "* change B field to point into x direction\n",
    "* add documentation"
   ]
  },
  {
   "cell_type": "markdown",
   "metadata": {},
   "source": [
    "# Simulation Code"
   ]
  },
  {
   "cell_type": "markdown",
   "metadata": {},
   "source": [
    "## Parameters & Initialization"
   ]
  },
  {
   "cell_type": "code",
   "execution_count": null,
   "metadata": {
    "collapsed": false,
    "scrolled": true
   },
   "outputs": [],
   "source": [
    "using HDF5\n",
    "using StatsBase\n",
    "using ProgressMeter"
   ]
  },
  {
   "cell_type": "markdown",
   "metadata": {},
   "source": [
    "### Type Definitions and Initialization"
   ]
  },
  {
   "cell_type": "code",
   "execution_count": null,
   "metadata": {
    "collapsed": false
   },
   "outputs": [],
   "source": [
    "type Schedule\n",
    "    Ts::Vector{Float64} # the annealing schedule for the temperature\n",
    "    Bs::Vector{Float64} # the annealing schedule for the external magnetic field\n",
    "    Ntherm::Vector{Int64} # number of sweeps for thermalization before the stage\n",
    "    Nsweep::Vector{Int64} # number of sweeps between two configurations at the stage\n",
    "    Nconfig::Vector{Int64} # number of configurations at the stage\n",
    "    N::Int64 # number of stages in the schedule\n",
    "    os::Int64 # current stage index within the schedule\n",
    "    function Schedule(Ts::Vector{Float64}, Bs::Vector{Float64}, Ntherm::Vector{Int64}, Nsweep::Vector{Int64}, Nconfig::Vector{Int64})\n",
    "        N = length(Ts)+length(Bs)-1\n",
    "        N == length(Nconfig) == length(Nsweep) || error(\"Invalid dimensions.\")\n",
    "        new(Ts, Bs, Ntherm, Nsweep, Nconfig, N, 1)\n",
    "    end\n",
    "    function Schedule(Ts::Vector{Float64}, Bs::Vector{Float64}; Ntherm::Int64=250, Nsweep::Int64=30, Nconfig::Int64=250)\n",
    "        N = length(Ts)+length(Bs)-1\n",
    "        Schedule(Ts, Bs, fill(Ntherm, N), fill(Nsweep, N), fill(Nconfig, N))\n",
    "    end\n",
    "end"
   ]
  },
  {
   "cell_type": "code",
   "execution_count": null,
   "metadata": {
    "collapsed": false
   },
   "outputs": [],
   "source": [
    "type Parameters\n",
    "    Nx::Int64 # number of lattice points in the x direction\n",
    "    Ny::Int64 # number of lattice points in the y direction\n",
    "    Nz::Int64 # number of lattice points in the z direction\n",
    "    Ntot::Int64 # total number of lattice points\n",
    "    T::Float64 # the current temperature\n",
    "    J::Float64 # ferromagnetic exchange\n",
    "    Jp::Float64 # ferromagnetic exchange of correction term\n",
    "    K::Float64 # DM interaction\n",
    "    Kp::Float64 # DM interaction of correction term\n",
    "    B::Float64 # the current magnetic field in z direction\n",
    "    denseoutput::Bool # switch whether to write out the configuration after each sweep\n",
    "    openbnd::Bool # switch whether to open the boundaries in the z direction\n",
    "    function Parameters(; Nx::Int64=30, Ny::Int64=30, Nz::Int64=30, T::Float64=0.0, J::Float64=1.0, K::Float64=tan(2pi/10.0), B::Float64=0.0, denseoutput::Bool=false, openbnd::Bool=false)\n",
    "        Ntot = Nx*Ny*Nz; Jp = J/16.0; Kp = K/8.0\n",
    "        new(Nx, Ny, Nz, Ntot, T, J, Jp, K, Kp, B, denseoutput, openbnd)\n",
    "    end\n",
    "    function Parameters(anneal::Schedule; Nx::Int64=30, Ny::Int64=30, Nz::Int64=30, denseoutput::Bool=false, openbnd::Bool=false)\n",
    "        Parameters(Nx=Nx, Ny=Ny, Nz=Nz, T=anneal.Ts[1], B=anneal.Bs[1], denseoutput=denseoutput, openbnd=openbnd)\n",
    "    end\n",
    "end"
   ]
  },
  {
   "cell_type": "code",
   "execution_count": null,
   "metadata": {
    "collapsed": false
   },
   "outputs": [],
   "source": [
    "type Monitor\n",
    "    Nrej::Int64 # number of overall rejected moves\n",
    "    Nacc::Int64 # number of overall accepted moves\n",
    "    nacc::Int64 # number of accepted moves per config\n",
    "    accRate::Vector{Float64} # evolution of the acceptance rate over the configurations\n",
    "    Monitor(anneal::Schedule) = new(0, 0, 0, zeros(Float64, sum(anneal.Nconfig)))\n",
    "end"
   ]
  },
  {
   "cell_type": "code",
   "execution_count": null,
   "metadata": {
    "collapsed": false
   },
   "outputs": [],
   "source": [
    "type Results\n",
    "    E::Vector{Float64} # history of total energy\n",
    "    Etmp::Float64 # current total energy\n",
    "    M::Array{Float64,2} # history of total magnetization\n",
    "    Mtmp::Vector{Float64} # current total magnetization\n",
    "    T::Vector{Float64} # history of temperature\n",
    "    B::Vector{Float64} # history of external magnetic field\n",
    "    os::Int64 # current offset (monte carlo time)\n",
    "    function Results(anneal::Schedule)\n",
    "        N = sum(anneal.Nconfig)\n",
    "        new(zeros(Float64, N), 0.0, zeros(Float64, 3, N), zeros(Float64, 3), zeros(Float64, N), zeros(Float64, N), 0)\n",
    "    end\n",
    "end"
   ]
  },
  {
   "cell_type": "code",
   "execution_count": null,
   "metadata": {
    "collapsed": false
   },
   "outputs": [],
   "source": [
    "@inline init(anneal::Schedule) = (Monitor(anneal), Results(anneal))"
   ]
  },
  {
   "cell_type": "markdown",
   "metadata": {},
   "source": [
    "### Grid Initialization"
   ]
  },
  {
   "cell_type": "code",
   "execution_count": null,
   "metadata": {
    "collapsed": false
   },
   "outputs": [],
   "source": [
    "\"\"\"\n",
    "    uniformS2(dims::Tuple{Int64,Int64,In64})\n",
    "\n",
    "Computes a 3D spin lattice of dimensions `dims` with uniformly random spins of ``S^2``.\n",
    "\n",
    "The result is of type `Array{Float64, 4}` with size `(3, dims...)`.\n",
    "\"\"\"\n",
    "function uniformS2(dims::Tuple{Int64,Int64,Int64})\n",
    "    phi = 2pi .* rand(dims)\n",
    "    z = 2rand(dims) - 1.0\n",
    "    squ = sqrt(1.0 - z.*z)\n",
    "    x = squ .* cos(phi)\n",
    "    y = squ .* sin(phi)\n",
    "    permutedims(cat(4,x,y,z),[4,1,2,3])\n",
    "end\n",
    "\n",
    "\"\"\"\n",
    "    uniformS2!(s::Vector{Float64})\n",
    "\n",
    "Sets `s[1:3]` to a uniformly random vector from ``S^2``.\n",
    "\"\"\"\n",
    "@inline function uniformS2!(s::Vector{Float64})\n",
    "    phi = 2.pi*rand()\n",
    "    z = 2.rand() - 1.0\n",
    "    squ = sqrt(1.0 - z*z)\n",
    "    s[1:3] = [squ*cos(phi), squ*sin(phi), z]\n",
    "    nothing\n",
    "end"
   ]
  },
  {
   "cell_type": "code",
   "execution_count": null,
   "metadata": {
    "collapsed": false
   },
   "outputs": [],
   "source": [
    "\"\"\"\n",
    "    initRandomGrid(dims::Tuple{Int64,Int64,Int64})\n",
    "\n",
    "Initializes a uniformly random grid with dimensions `dims` and set the initial energy and magnetization in res.\n",
    "The result is of type `Array{Float64, 4}` with size `(3, dims...)`.\n",
    "\"\"\"\n",
    "function initRandomGrid(dims::Tuple{Int64,Int64,Int64})\n",
    "    grid = uniformS2(dims)\n",
    "    res.Etmp = totalEnergy(grid)\n",
    "    res.Mtmp = totalMagnetization(grid)\n",
    "    info(\"Initialized random grid.\")\n",
    "    grid\n",
    "end\n",
    "\n",
    "@inline initRandomGrid() = initRandomGrid((pars.Nx, pars.Ny, pars.Nz))"
   ]
  },
  {
   "cell_type": "code",
   "execution_count": null,
   "metadata": {
    "collapsed": false
   },
   "outputs": [],
   "source": [
    "function initGridFromFile(filename::ASCIIString)\n",
    "    grid = Array(Float64, 3, pars.Nx, pars.Ny, pars.Nz)\n",
    "    h5open(getPath(filename), \"r\") do file\n",
    "        lastconfig = sort([parse(Int64, match(r\"[0-9]+\", dset).match) for dset in names(file[\"/configs\"])])[end]\n",
    "        grid = squeeze(file[string(\"/configs/configs_\", lastconfig)][:,:,:,:,end],5)\n",
    "    end\n",
    "    size(grid) == (3, pars.Nx, pars.Ny, pars.Nz) || error(\"Dimension mismatch.\")\n",
    "    res.Etmp = totalEnergy(grid)\n",
    "    res.Mtmp = totalMagnetization(grid)\n",
    "    grid\n",
    "end"
   ]
  },
  {
   "cell_type": "code",
   "execution_count": null,
   "metadata": {
    "collapsed": false
   },
   "outputs": [],
   "source": [
    "@inline getX(grid::Array{Float64}) = squeeze(grid[1,:],1)\n",
    "@inline getY(grid::Array{Float64}) = squeeze(grid[2,:],1)\n",
    "@inline getZ(grid::Array{Float64}) = squeeze(grid[3,:],1)\n",
    "@inline getX(grid::Array{Float64,4}) = squeeze(grid[1,:,:,:],1)\n",
    "@inline getY(grid::Array{Float64,4}) = squeeze(grid[2,:,:,:],1)\n",
    "@inline getZ(grid::Array{Float64,4}) = squeeze(grid[3,:,:,:],1)"
   ]
  },
  {
   "cell_type": "code",
   "execution_count": null,
   "metadata": {
    "collapsed": false
   },
   "outputs": [],
   "source": [
    "@inline idx(i::Int64, N::Int64) = mod(i-1,N)+1"
   ]
  },
  {
   "cell_type": "markdown",
   "metadata": {},
   "source": [
    "## Hamiltonian & Observables"
   ]
  },
  {
   "cell_type": "code",
   "execution_count": null,
   "metadata": {
    "collapsed": false
   },
   "outputs": [],
   "source": [
    "@inline crossX(a::Vector{Float64}, b::Vector{Float64}) = -a[3]*b[2] + a[2]*b[3]\n",
    "@inline crossY(a::Vector{Float64}, b::Vector{Float64}) =  a[3]*b[1] - a[1]*b[3]\n",
    "@inline crossZ(a::Vector{Float64}, b::Vector{Float64}) = -a[2]*b[1] + a[1]*b[2]"
   ]
  },
  {
   "cell_type": "code",
   "execution_count": null,
   "metadata": {
    "collapsed": false
   },
   "outputs": [],
   "source": [
    "function DMterm(grid::Array{Float64,4}, i::Int64, j::Int64, k::Int64, os::Int64)\n",
    "    crossX(grid[:,i,j,k], grid[:,idx(i+os,pars.Nx),j,k]) +\n",
    "    crossY(grid[:,i,j,k], grid[:,i,idx(j+os,pars.Ny),k]) +\n",
    "    crossZ(grid[:,i,j,k], grid[:,i,j,idx(k+os,pars.Nz)])\n",
    "end"
   ]
  },
  {
   "cell_type": "code",
   "execution_count": null,
   "metadata": {
    "collapsed": false
   },
   "outputs": [],
   "source": [
    "function totalEnergy(grid::Array{Float64,4})\n",
    "    pars.openbnd::Bool ? totalEnergyOpen(grid) : totalEnergyPeriodic(grid)\n",
    "end\n",
    "\n",
    "function totalEnergyPeriodic(grid::Array{Float64,4})\n",
    "    Nx = pars.Nx; Ny = pars.Ny; Nz = pars.Nz\n",
    "    E = 0.0\n",
    "    for k=1:Nz, j=1:Ny, i=1:Nx\n",
    "        E += - pars.B * grid[3,i,j,k] -\n",
    "        pars.J * dot(grid[:,i,j,k], grid[:,idx(i+1,Nx),j,k] + grid[:,i,idx(j+1,Ny),k] + grid[:,i,j,idx(k+1,Nz)]) +\n",
    "        pars.Jp * dot(grid[:,i,j,k], grid[:,idx(i+2,Nx),j,k] + grid[:,i,idx(j+2,Ny),k] + grid[:,i,j,idx(k+2,Nz)]) -\n",
    "        pars.K * DMterm(grid, i, j, k, 1) + pars.Kp * DMterm(grid, i, j, k, 2)\n",
    "    end\n",
    "    E\n",
    "end\n",
    "\n",
    "function totalEnergyOpen(grid::Array{Float64,4})\n",
    "    Nx = pars.Nx; Ny = pars.Ny; Nz = pars.Nz\n",
    "    E = 0.0\n",
    "    for i=1:Nx\n",
    "        for j=1:Ny\n",
    "            for k=1:Nz-2\n",
    "                E += -pars.B * grid[3,i,j,k] -\n",
    "                pars.J * dot(grid[:,i,j,k], grid[:,idx(i+1,Nx),j,k] + grid[:,i,idx(j+1,Ny),k] + grid[:,i,j,idx(k+1,Nz)]) +\n",
    "                pars.Jp * dot(grid[:,i,j,k], grid[:,idx(i+2,Nx),j,k] + grid[:,i,idx(j+2,Ny),k] + grid[:,i,j,idx(k+2,Nz)]) -\n",
    "                pars.K * DMterm(grid, i, j, k, 1) + pars.Kp * DMterm(grid, i, j, k, 2)\n",
    "            end\n",
    "            E += -pars.J * dot(grid[:,i,j,Nz-1], grid[:,idx(i+1,Nx),j,Nz-1] + grid[:,i,idx(j+1,Ny),Nz-1] + grid[:,i,j,Nz]) +\n",
    "            pars.Jp * dot(grid[:,i,j,Nz-1], grid[:,idx(i+2,Nx),j,Nz-1] + grid[:,i,idx(j+2,Ny),Nz-1]) -\n",
    "            pars.K * DMterm(grid, i, j, Nz-1, 1) +\n",
    "            pars.Kp * (crossX(grid[:,i,j,Nz-1], grid[:,idx(i+2,Nx),j,Nz-1]) + crossY(grid[:,i,j,Nz-1], grid[:,i,idx(j+2,Ny),Nz-1]))\n",
    "\n",
    "            E += -pars.J * dot(grid[:,i,j,Nz], grid[:,idx(i+1,Nx),j,Nz] + grid[:,i,idx(j+1,Ny),Nz]) +\n",
    "            pars.Jp * dot(grid[:,i,j,Nz], grid[:,idx(i+2,Nx),j,Nz] + grid[:,i,idx(j+2,Ny),Nz]) -\n",
    "            pars.K * (crossX(grid[:,i,j,Nz], grid[:,idx(i+1,Nx),j,Nz]) + crossY(grid[:,i,j,Nz], grid[:,i,idx(j+1,Ny),Nz])) +\n",
    "            pars.Kp * (crossX(grid[:,i,j,Nz], grid[:,idx(i+2,Nx),j,Nz]) + crossY(grid[:,i,j,Nz], grid[:,i,idx(j+2,Ny),Nz]))\n",
    "        end\n",
    "    end\n",
    "    E\n",
    "end"
   ]
  },
  {
   "cell_type": "code",
   "execution_count": null,
   "metadata": {
    "collapsed": false
   },
   "outputs": [],
   "source": [
    "function totalMagnetization(grid::Array{Float64,4})\n",
    "    M = zeros(Float64, 3)\n",
    "    for i=1:pars.Ntot\n",
    "        @inbounds M += grid[:,i]\n",
    "    end\n",
    "    M / pars.Ntot\n",
    "end"
   ]
  },
  {
   "cell_type": "code",
   "execution_count": null,
   "metadata": {
    "collapsed": false
   },
   "outputs": [],
   "source": [
    "function energyChange(grid::Array{Float64,4}, snew::Vector{Float64}, i::Int64, j::Int64, k::Int64)\n",
    "    pars.openbnd::Bool ? energyChangeOpen(grid, snew, i, j, k) : energyChangePeriodic(grid, snew, i, j, k)\n",
    "end\n",
    "\n",
    "@inline function energyChangePeriodic(grid::Array{Float64,4}, snew::Vector{Float64}, i::Int64, j::Int64, k::Int64)\n",
    "    const Nx = pars.Nx::Int64\n",
    "    const Ny = pars.Ny::Int64\n",
    "    const Nz = pars.Nz::Int64\n",
    "    im1 = idx(i-1,Nx); im2 = idx(i-2,Nx); ip1 = idx(i+1,Nx); ip2 = idx(i+2,Nx)\n",
    "    jm1 = idx(j-1,Ny); jm2 = idx(j-2,Ny); jp1 = idx(j+1,Ny); jp2 = idx(j+2,Ny)\n",
    "    km1 = idx(k-1,Nz); km2 = idx(k-2,Nz); kp1 = idx(k+1,Nz); kp2 = idx(k+2,Nz)\n",
    "    sdiff = snew - grid[:,i,j,k]\n",
    "    -pars.B::Float64 * sdiff[3] -\n",
    "    pars.J::Float64  * dot(sdiff, grid[:,im1,j,k] + grid[:,ip1,j,k] + grid[:,i,jm1,k] + grid[:,i,jp1,k] + grid[:,i,j,km1] + grid[:,i,j,kp1]) +\n",
    "    pars.Jp::Float64 * dot(sdiff, grid[:,im2,j,k] + grid[:,ip2,j,k] + grid[:,i,jm2,k] + grid[:,i,jp2,k] + grid[:,i,j,km2] + grid[:,i,j,kp2]) -\n",
    "    pars.K::Float64  * (crossX(sdiff, grid[:,ip1,j,k] - grid[:,im1,j,k]) +\n",
    "                        crossY(sdiff, grid[:,i,jp1,k] - grid[:,i,jm1,k]) +\n",
    "                        crossZ(sdiff, grid[:,i,j,kp1] - grid[:,i,j,km1])) +\n",
    "    pars.Kp::Float64 * (crossX(sdiff, grid[:,ip2,j,k] - grid[:,im2,j,k]) +\n",
    "                        crossY(sdiff, grid[:,i,jp2,k] - grid[:,i,jm2,k]) +\n",
    "                        crossZ(sdiff, grid[:,i,j,kp2] - grid[:,i,j,km2]))\n",
    "end\n",
    "\n",
    "@inline function energyChangeOpen(grid::Array{Float64,4}, snew::Vector{Float64}, i::Int64, j::Int64, k::Int64)\n",
    "    const Nx = pars.Nx::Int64\n",
    "    const Ny = pars.Ny::Int64\n",
    "    const Nz = pars.Nz::Int64\n",
    "    im1 = grid[:,idx(i-1,Nx),j,k]; im2 = grid[:,idx(i-2,Nx),j,k]\n",
    "    ip1 = grid[:,idx(i+1,Nx),j,k]; ip2 = grid[:,idx(i+2,Nx),j,k]\n",
    "    jm1 = grid[:,i,idx(j-1,Ny),k]; jm2 = grid[:,i,idx(j-2,Ny),k]\n",
    "    jp1 = grid[:,i,idx(j+1,Ny),k]; jp2 = grid[:,i,idx(j+2,Ny),k]\n",
    "    km1 = k == 1 ? zeros(3) : grid[:,i,j,idx(k-1,Nz)]; km2 = k <= 2 ? zeros(3) : grid[:,i,j,idx(k-2,Nz)]\n",
    "    kp1 = k == Nz ? zeros(3) : grid[:,i,j,idx(k+1,Nz)]; kp2 = k >= Nz-1 ? zeros(3) : grid[:,i,j,idx(k+2,Nz)]\n",
    "    sdiff = snew - grid[:,i,j,k]\n",
    "    -pars.B::Float64 * sdiff[3] -\n",
    "    pars.J::Float64  * dot(sdiff, im1 + ip1 + jm1 + jp1 + km1 + kp1) +\n",
    "    pars.Jp::Float64 * dot(sdiff, im2 + ip2 + jm2 + jp2 + km2 + kp2) -\n",
    "    pars.K::Float64  * (crossX(sdiff, ip1 - im1) + crossY(sdiff, jp1 - jm1) + crossZ(sdiff, kp1 - km1)) +\n",
    "    pars.Kp::Float64 * (crossX(sdiff, ip2 - im2) + crossY(sdiff, jp2 - jm2) + crossZ(sdiff, kp2 - km2))\n",
    "end"
   ]
  },
  {
   "cell_type": "code",
   "execution_count": null,
   "metadata": {
    "collapsed": false
   },
   "outputs": [],
   "source": [
    "@inline specificHeat(f::Vector{Float64}) = var(f)/(pars.Ntot * pars.T^2)"
   ]
  },
  {
   "cell_type": "code",
   "execution_count": null,
   "metadata": {
    "collapsed": false
   },
   "outputs": [],
   "source": [
    "@inline susceptibility(f::Vector{Float64}) = var(f)/(pars.Ntot * pars.T)"
   ]
  },
  {
   "cell_type": "markdown",
   "metadata": {},
   "source": [
    "## Simulated Annealing"
   ]
  },
  {
   "cell_type": "code",
   "execution_count": null,
   "metadata": {
    "collapsed": false
   },
   "outputs": [],
   "source": [
    "function scheduleNext(anneal::Schedule)\n",
    "    anneal.os += 1\n",
    "    anneal.os > length(anneal.Ts) ? (pars.B = anneal.Bs[anneal.os - length(anneal.Ts)]) : (pars.T = anneal.Ts[anneal.os])\n",
    "end"
   ]
  },
  {
   "cell_type": "code",
   "execution_count": null,
   "metadata": {
    "collapsed": false
   },
   "outputs": [],
   "source": [
    "@inline acceptProb(del::Float64, T::Float64) = exp(-del/T)"
   ]
  },
  {
   "cell_type": "code",
   "execution_count": null,
   "metadata": {
    "collapsed": false
   },
   "outputs": [],
   "source": [
    "function acceptMove!(grid::Array{Float64,4}, snew::Vector{Float64}, dE::Float64, i::Int64, j::Int64, k::Int64)\n",
    "    mon.Nacc::Int64 += 1\n",
    "    mon.nacc::Int64 += 1\n",
    "    res.Etmp::Float64 += dE\n",
    "    res.Mtmp::Vector{Float64} += (snew - grid[:,i,j,k]) / pars.Ntot::Int64\n",
    "    grid[:,i,j,k] = snew\n",
    "end"
   ]
  },
  {
   "cell_type": "code",
   "execution_count": null,
   "metadata": {
    "collapsed": false
   },
   "outputs": [],
   "source": [
    "function update!(grid::Array{Float64,4}, snew::Vector{Float64})\n",
    "    i,j,k = rand(1:pars.Nx::Int64, 3)\n",
    "    uniformS2!(snew)\n",
    "    dE = energyChange(grid, snew, i, j, k)\n",
    "    if dE < 0.0 || acceptProb(dE, pars.T::Float64) >= rand()\n",
    "        acceptMove!(grid, snew, dE, i, j, k)\n",
    "    else\n",
    "        mon.Nrej::Int64 += 1\n",
    "    end\n",
    "end"
   ]
  },
  {
   "cell_type": "code",
   "execution_count": null,
   "metadata": {
    "collapsed": false
   },
   "outputs": [],
   "source": [
    "@inline function sweep!(grid::Array{Float64,4}, snew::Vector{Float64})\n",
    "    for i=1:pars.Ntot::Int64\n",
    "        update!(grid, snew)\n",
    "    end\n",
    "end"
   ]
  },
  {
   "cell_type": "code",
   "execution_count": null,
   "metadata": {
    "collapsed": false
   },
   "outputs": [],
   "source": [
    "function nextconfig!(grid::Array{Float64,4})\n",
    "    snew = zeros(Float64, 3)\n",
    "    for j=1:anneal.Nsweep[anneal.os]::Int64\n",
    "        sweep!(grid, snew)\n",
    "    end\n",
    "end"
   ]
  },
  {
   "cell_type": "code",
   "execution_count": null,
   "metadata": {
    "collapsed": false
   },
   "outputs": [],
   "source": [
    "function thermalize!(grid::Array{Float64,4}, anneal::Schedule)\n",
    "    info(\"Start thermalizing...\")\n",
    "    snew = zeros(Float64, 3)\n",
    "    @showprogress 1 \"Thermalizing...\" for i=1:anneal.Ntherm[anneal.os]::Int64\n",
    "        sweep!(grid, snew)\n",
    "    end\n",
    "    info(\"Finished thermalizing.\")\n",
    "    grid\n",
    "end\n",
    "\n",
    "function thermalize(anneal::Schedule)\n",
    "    grid = initRandomGrid()\n",
    "    thermalize!(grid, anneal)\n",
    "end"
   ]
  },
  {
   "cell_type": "code",
   "execution_count": null,
   "metadata": {
    "collapsed": false
   },
   "outputs": [],
   "source": [
    "function runstage!(grid::Array{Float64,4}, file::HDF5File, anneal::Schedule)\n",
    "    pars.denseoutput && (conf = d_create(file, \"configs/configs_$(anneal.os)\", datatype(Float64), dataspace(3, pars.Nx, pars.Ny, pars.Nz, anneal.Nconfig[anneal.os]), \"chunk\", (3, pars.Nx, pars.Ny, pars.Nz, 1)))\n",
    "    avg = d_create(file, \"avgs/avg_$(anneal.os)\", datatype(Float64), dataspace(3, pars.Nx, pars.Ny, pars.Nz))\n",
    "    pars.denseoutput ? snapshot(grid, conf, avg, anneal) : snapshot(grid, avg, anneal)\n",
    "    @showprogress 1 \"Stage $(anneal.os)...\" for i=1:anneal.Nconfig[anneal.os]::Int64-1\n",
    "        nextconfig!(grid)\n",
    "        pars.denseoutput ? snapshot(grid, conf, avg, anneal) : snapshot(grid, avg, anneal)\n",
    "    end\n",
    "    info(\"Finished stage $(anneal.os).\")\n",
    "    info(\"Write stage results...\")\n",
    "    stageOutput(file, avg, anneal)\n",
    "    info(\"Stage results written.\")\n",
    "    scheduleNext(anneal)\n",
    "end"
   ]
  },
  {
   "cell_type": "code",
   "execution_count": null,
   "metadata": {
    "collapsed": false
   },
   "outputs": [],
   "source": [
    "function run!(grid::Array{Float64,4}, filename::ASCIIString, anneal::Schedule)\n",
    "    info(\"Start run with $(anneal.N) stages...\")\n",
    "    thermalize!(grid, anneal)\n",
    "    h5open(getPath(filename), \"w\") do file\n",
    "        for i = 1:anneal.N::Int64\n",
    "            runstage!(grid, file, anneal)\n",
    "        end\n",
    "        finalOutput(file, anneal)\n",
    "    end\n",
    "    info(\"Finished all stages.\")\n",
    "end\n",
    "\n",
    "function run(filename::ASCIIString, anneal::Schedule; oldfile::ASCIIString=\"\")\n",
    "    if oldfile == \"\"\n",
    "        info(\"Using new random grid.\")\n",
    "        grid = initRandomGrid()\n",
    "    else\n",
    "        info(string(\"Continue from last config of \", oldfile))\n",
    "        grid = initGridFromFile(oldfile)\n",
    "    end\n",
    "    run!(grid, filename, anneal)\n",
    "end"
   ]
  },
  {
   "cell_type": "markdown",
   "metadata": {},
   "source": [
    "## Output"
   ]
  },
  {
   "cell_type": "code",
   "execution_count": null,
   "metadata": {
    "collapsed": false
   },
   "outputs": [],
   "source": [
    "@inline getPath(filename::ASCIIString; ext::ASCIIString=\"h5\") = string(\"../../data/\", filename, \".\", ext)"
   ]
  },
  {
   "cell_type": "code",
   "execution_count": null,
   "metadata": {
    "collapsed": false
   },
   "outputs": [],
   "source": [
    "function snapshot(grid::Array{Float64,4}, avg::HDF5Dataset, anneal::Schedule)\n",
    "    res.os::Int64 += 1\n",
    "    res.E[res.os] = res.Etmp::Float64\n",
    "    res.M[:,res.os] = res.Mtmp::Vector{Float64}\n",
    "    res.T[res.os] = pars.T::Float64\n",
    "    res.B[res.os] = pars.B::Float64\n",
    "    mon.accRate[res.os] = mon.nacc::Int64 / (pars.Ntot::Int64 * anneal.Nsweep[anneal.os]::Int64)\n",
    "    mon.nacc::Int64 = 0\n",
    "    addConfig(grid, avg)\n",
    "end\n",
    "\n",
    "function snapshot(grid::Array{Float64,4}, conf::HDF5Dataset, avg::HDF5Dataset, anneal::Schedule)\n",
    "    snapshot(grid, avg, anneal)\n",
    "    appendConfig(grid, res.os-sum(anneal.Nconfig[1:anneal.os-1]), conf)\n",
    "end"
   ]
  },
  {
   "cell_type": "code",
   "execution_count": null,
   "metadata": {
    "collapsed": false
   },
   "outputs": [],
   "source": [
    "function jackknife(obs::Function, f::Vector{Float64})\n",
    "    N = length(f)\n",
    "    jack = [obs([f[1:i]; f[i+2:N]]) for i=0:N-1]\n",
    "    (N-1) * mean( (jack - mean(jack)).^2 )\n",
    "end\n",
    "\n",
    "@inline jackknife(f::Vector{Float64}) = jackknife(mean, f)"
   ]
  },
  {
   "cell_type": "code",
   "execution_count": null,
   "metadata": {
    "collapsed": false
   },
   "outputs": [],
   "source": [
    "function stageOutput(file::HDF5File, avg::HDF5Dataset, anneal::Schedule)\n",
    "    averageConfigs!(avg, anneal)\n",
    "    i = sum(anneal.Nconfig[1:anneal.os-1])+1\n",
    "    f = i + anneal.Nconfig[anneal.os] - 1\n",
    "    writeResultAndError(file, res.E[i:f], \"res/E_avg_$(anneal.os)\")\n",
    "    writeResultAndError(file, getX(res.M[:,i:f]), \"res/Mx_avg_$(anneal.os)\")\n",
    "    writeResultAndError(file, getY(res.M[:,i:f]), \"res/My_avg_$(anneal.os)\")\n",
    "    writeResultAndError(file, getZ(res.M[:,i:f]), \"res/Mz_avg_$(anneal.os)\")\n",
    "    writeResultAndError(file, res.E[i:f], \"res/specific_heat_$(anneal.os)\", fun=specificHeat)\n",
    "    writeResultAndError(file, getZ(res.M[:,i:f]), \"res/susceptibility_$(anneal.os)\", fun=susceptibility)    \n",
    "end"
   ]
  },
  {
   "cell_type": "code",
   "execution_count": null,
   "metadata": {
    "collapsed": false
   },
   "outputs": [],
   "source": [
    "function finalOutput(file::HDF5File, anneal::Schedule)\n",
    "    file[\"energy\"] = res.E\n",
    "    file[\"magnetization\"] = res.M\n",
    "    file[\"temperature\"] = res.T\n",
    "    file[\"magnetic_field\"]=res.B\n",
    "    file[\"acceptancerate\"] = mon.accRate\n",
    "    writeParameters(file, anneal)\n",
    "end"
   ]
  },
  {
   "cell_type": "code",
   "execution_count": null,
   "metadata": {
    "collapsed": false
   },
   "outputs": [],
   "source": [
    "function writeParameters(file::HDF5File, anneal::Schedule)\n",
    "    for struct in [pars, anneal], field in fieldnames(struct)\n",
    "        try\n",
    "            file[string(\"parameters/\", string(field))] = getfield(struct, field)\n",
    "        catch\n",
    "            file[string(\"parameters/\", string(field))] = Int64(getfield(struct, field))\n",
    "        end\n",
    "    end\n",
    "end"
   ]
  },
  {
   "cell_type": "code",
   "execution_count": null,
   "metadata": {
    "collapsed": false
   },
   "outputs": [],
   "source": [
    "@inline function writeResultAndError(file::HDF5File, res::Float64, err::Float64, dset::ASCIIString)\n",
    "    file[dset] = [res, err]\n",
    "end\n",
    "\n",
    "function writeResultAndError(file::HDF5File, f::Vector{Float64}, dset::ASCIIString; fun::Function=mean)\n",
    "    res = fun(f)\n",
    "    err = sqrt(jackknife(fun, f))\n",
    "    writeResultAndError(file, res, err, dset)\n",
    "end"
   ]
  },
  {
   "cell_type": "code",
   "execution_count": null,
   "metadata": {
    "collapsed": false
   },
   "outputs": [],
   "source": [
    "@inline function averageConfigs!(avg::HDF5Dataset, anneal::Schedule)\n",
    "    avg[:,:,:,:] /= anneal.Nconfig[anneal.os]\n",
    "end"
   ]
  },
  {
   "cell_type": "code",
   "execution_count": null,
   "metadata": {
    "collapsed": false
   },
   "outputs": [],
   "source": [
    "@inline function appendConfig(grid::Array{Float64,4}, os::Int64, conf::HDF5Dataset)\n",
    "    conf[:,:,:,:,os] = grid\n",
    "end"
   ]
  },
  {
   "cell_type": "code",
   "execution_count": null,
   "metadata": {
    "collapsed": false
   },
   "outputs": [],
   "source": [
    "@inline function addConfig(grid::Array{Float64,4}, avg::HDF5Dataset)\n",
    "    avg[:,:,:,:] += grid\n",
    "end"
   ]
  },
  {
   "cell_type": "markdown",
   "metadata": {},
   "source": [
    "# Run the Simulation (scripting)"
   ]
  },
  {
   "cell_type": "code",
   "execution_count": null,
   "metadata": {
    "collapsed": false
   },
   "outputs": [],
   "source": [
    "srand(42) # set seed for random numbers;"
   ]
  },
  {
   "cell_type": "code",
   "execution_count": null,
   "metadata": {
    "collapsed": false
   },
   "outputs": [],
   "source": [
    "anneal = Schedule([0.6], [0.2], [0], [1], [300000])\n",
    "pars = Parameters(anneal, Nx=10, Ny=10, Nz=10, openbnd=false, denseoutput=false)\n",
    "mon, res = init(anneal);\n",
    "pars.T, pars.B, (pars.Nx, pars.Ny, pars.Nz), anneal.Ntherm, anneal.Nconfig, anneal.Nsweep"
   ]
  },
  {
   "cell_type": "code",
   "execution_count": null,
   "metadata": {
    "collapsed": false
   },
   "outputs": [],
   "source": [
    "@time run(\"Ntot$(pars.Ntot)_T$(pars.T)_B$(pars.B)\", anneal);\n",
    "# @time run(\"Ntot$(pars.Ntot)\", anneal, oldfile=\"/scratch/users/nki/magnetism/anneal/Ntot52920\");"
   ]
  },
  {
   "cell_type": "markdown",
   "metadata": {},
   "source": [
    "# Postprocessing"
   ]
  },
  {
   "cell_type": "markdown",
   "metadata": {},
   "source": [
    "## I/O"
   ]
  },
  {
   "cell_type": "code",
   "execution_count": null,
   "metadata": {
    "collapsed": false
   },
   "outputs": [],
   "source": [
    "function loadDataset(filename::ASCIIString, dset::ASCIIString; group=nothing)\n",
    "    h5open(getPath(filename), \"r\") do file\n",
    "        idx = group == nothing ? dset : string(group, \"/\", dset)\n",
    "        read(file[idx])\n",
    "    end\n",
    "end"
   ]
  },
  {
   "cell_type": "code",
   "execution_count": null,
   "metadata": {
    "collapsed": false
   },
   "outputs": [],
   "source": [
    "function loadParameters!(filename::ASCIIString, pars::Parameters, anneal::Schedule)\n",
    "    h5open(getPath(filename), \"r\") do file\n",
    "        for struct in [pars, anneal], field in fieldnames(struct)\n",
    "            setfield!(field, struct, read(file[string(\"parameters/\", field)]))\n",
    "        end            \n",
    "    end\n",
    "end"
   ]
  },
  {
   "cell_type": "code",
   "execution_count": null,
   "metadata": {
    "collapsed": false
   },
   "outputs": [],
   "source": [
    "function loadResults!(filename::ASCIIString, res::Results)\n",
    "    h5open(getPath(filename), \"r\") do file\n",
    "        res.E = read(file[string(\"energy\")])\n",
    "        res.M = read(file[string(\"magnetization\")])\n",
    "        res.T = read(file[string(\"temperature\")])\n",
    "        res.B = read(file[string(\"magnetic_field\")])\n",
    "    end\n",
    "end"
   ]
  },
  {
   "cell_type": "code",
   "execution_count": null,
   "metadata": {
    "collapsed": false
   },
   "outputs": [],
   "source": [
    "exportPlotData(filename::ASCIIString, data) = writedlm(getPath(filename, ext=\"csv\"), data, \", \")"
   ]
  },
  {
   "cell_type": "markdown",
   "metadata": {},
   "source": [
    "## Basic Statistics"
   ]
  },
  {
   "cell_type": "code",
   "execution_count": null,
   "metadata": {
    "collapsed": false
   },
   "outputs": [],
   "source": [
    "function autocorr(f::Vector{Float64})\n",
    "    mean, var = mean_and_var(f)\n",
    "    N = length(f)\n",
    "    fm = f - mean\n",
    "    [dot(fm[1:N-t], fm[t+1:N]) / ((N-t)*var) for t=0:N-1]\n",
    "end"
   ]
  },
  {
   "cell_type": "code",
   "execution_count": null,
   "metadata": {
    "collapsed": false
   },
   "outputs": [],
   "source": [
    "function intAutoTime(f::Vector{Float64}, N::Int64; isautocorr=false)\n",
    "    isautocorr || (f = autocorr(f))\n",
    "    0.5 + sum(f[2:N])\n",
    "end\n",
    "\n",
    "@inline intAutoTime(f::Vector{Float64}; isautocorr=false) = intAutoTime(f, length(f), isautocorr=isautocorr)"
   ]
  },
  {
   "cell_type": "markdown",
   "metadata": {},
   "source": [
    "## Skyrmion Specifics"
   ]
  },
  {
   "cell_type": "code",
   "execution_count": null,
   "metadata": {
    "collapsed": false
   },
   "outputs": [],
   "source": [
    "function drawProj(f::Array{Float64,3}, dir::Int64; name::ASCIIString=\"proj\", saveimg=false, ext=\"png\")\n",
    "    proj = squeeze(sum(f, dir), dir)\n",
    "    img = grayim( (proj/maximum(proj[:])).^6 )\n",
    "    saveimg && save(getPath(string(name, \"_\", dir), ext=ext), img)\n",
    "    img\n",
    "end\n",
    "\n",
    "function drawProj(f::Array{Float64,3}; name::ASCIIString=\"proj\", saveimg=false, ext=\"png\")\n",
    "    [drawProj(f, dir, name=name, saveimg=saveimg, ext=ext) for dir=1:3]\n",
    "end"
   ]
  },
  {
   "cell_type": "code",
   "execution_count": null,
   "metadata": {
    "collapsed": false
   },
   "outputs": [],
   "source": [
    "@inline rotatehalf(N::Int64) = vcat(fld(N,2)+1:N, 1:fld(N,2))"
   ]
  },
  {
   "cell_type": "code",
   "execution_count": null,
   "metadata": {
    "collapsed": false
   },
   "outputs": [],
   "source": [
    "function braggIntensity(grid::Array{Float64,4})\n",
    "    Sk = fftVF(grid)\n",
    "    [norm(Sk[:,i,j,k])::Float64 for i=rotatehalf(size(Sk,2)), j=rotatehalf(size(Sk,3)), k=rotatehalf(size(Sk,4))]\n",
    "end"
   ]
  },
  {
   "cell_type": "code",
   "execution_count": null,
   "metadata": {
    "collapsed": false
   },
   "outputs": [],
   "source": [
    "function fftVF(grid::Array{Float64,4})\n",
    "    Sx = fft3(getX(grid))\n",
    "    Sy = fft3(getY(grid))\n",
    "    Sz = fft3(getZ(grid))\n",
    "    permutedims(cat(4,Sx,Sy,Sz), [4,1,2,3])\n",
    "end"
   ]
  },
  {
   "cell_type": "code",
   "execution_count": null,
   "metadata": {
    "collapsed": false
   },
   "outputs": [],
   "source": [
    "function fft3(f::Array{Float64,3})\n",
    "    FFTW.set_num_threads(4)\n",
    "    fft(f - mean(f[:]))\n",
    "end"
   ]
  },
  {
   "cell_type": "markdown",
   "metadata": {},
   "source": [
    "# Analyze the Results (scripting)"
   ]
  },
  {
   "cell_type": "code",
   "execution_count": null,
   "metadata": {
    "collapsed": false
   },
   "outputs": [],
   "source": [
    "ENV[\"PYTHON\"]=\"/usr/local/Cellar/python/2.7.12_1/bin/python\""
   ]
  },
  {
   "cell_type": "code",
   "execution_count": null,
   "metadata": {
    "collapsed": false
   },
   "outputs": [],
   "source": [
    "Pkg.build(\"PyPlot\")"
   ]
  },
  {
   "cell_type": "code",
   "execution_count": null,
   "metadata": {
    "collapsed": false
   },
   "outputs": [],
   "source": [
    "using PyPlot\n",
    "using LsqFit"
   ]
  },
  {
   "cell_type": "code",
   "execution_count": null,
   "metadata": {
    "collapsed": false
   },
   "outputs": [],
   "source": [
    "WRITEOUT = false # global switch to suppuress or enable all output"
   ]
  },
  {
   "cell_type": "markdown",
   "metadata": {},
   "source": [
    "## Thermalization & Autocorrelation"
   ]
  },
  {
   "cell_type": "code",
   "execution_count": null,
   "metadata": {
    "collapsed": false
   },
   "outputs": [],
   "source": [
    "tMC = 1:sum(anneal.Nconfig)\n",
    "tMC = 1:6000\n",
    "plot(res.E[tMC])\n",
    "figure()\n",
    "plot(tMC, getX(res.M)[tMC], tMC, getY(res.M)[tMC], tMC, getZ(res.M)[tMC])\n",
    "# WRITEOUT && exportPlotData(\"T$(pars.T)_B$(pars.B)/therm_energy\", res.E[tMC]);\n",
    "# WRITEOUT && exportPlotData(\"T$(pars.T)_B$(pars.B)/therm_mx\", getX(res.M)[tMC]);\n",
    "# WRITEOUT && exportPlotData(\"T$(pars.T)_B$(pars.B)/therm_my\", getY(res.M)[tMC]);\n",
    "# WRITEOUT && exportPlotData(\"T$(pars.T)_B$(pars.B)/therm_mz\", getZ(res.M)[tMC]);"
   ]
  },
  {
   "cell_type": "code",
   "execution_count": null,
   "metadata": {
    "collapsed": false
   },
   "outputs": [],
   "source": [
    "Icomp = 5000:sum(anneal.Nconfig)\n",
    "Iauto = Icomp-minimum(Icomp)\n",
    "Re = autocor(res.E[Icomp], Iauto)\n",
    "Rmx = autocor(getX(res.M)[Icomp], Iauto)\n",
    "Rmy = autocor(getY(res.M)[Icomp], Iauto)\n",
    "Rmz = autocor(getZ(res.M)[Icomp], Iauto);"
   ]
  },
  {
   "cell_type": "code",
   "execution_count": null,
   "metadata": {
    "collapsed": false
   },
   "outputs": [],
   "source": [
    "Ishow = 1:1500\n",
    "I = Ishow - 1\n",
    "plot(Ishow, Re[Ishow], Ishow, Rmx[Ishow], Ishow, Rmy[Ishow], Ishow, Rmz[Ishow])\n",
    "# WRITEOUT && exportPlotData(\"T$(pars.T)_B$(pars.B)/auto_energy\", Re[Ishow]);\n",
    "# WRITEOUT && exportPlotData(\"T$(pars.T)_B$(pars.B)/auto_mx\", Rmx[Ishow]);\n",
    "# WRITEOUT && exportPlotData(\"T$(pars.T)_B$(pars.B)/auto_my\", Rmy[Ishow]);\n",
    "# WRITEOUT && exportPlotData(\"T$(pars.T)_B$(pars.B)/auto_mz\", Rmz[Ishow]);"
   ]
  },
  {
   "cell_type": "code",
   "execution_count": null,
   "metadata": {
    "collapsed": false
   },
   "outputs": [],
   "source": [
    "Ishow = 1:80\n",
    "I = Ishow - 1\n",
    "model(x, p) = exp(-x./p[1])\n",
    "fit = curve_fit(model, I, Re[Ishow], [10.])\n",
    "plot(I, model(I,fit.param), I, Re[Ishow])\n",
    "info(\"energy autocorrelation time: fit τ = $(fit.param[1]), integrated τ = $(0.5 + sumabs(Re[Ishow[2:end]]))\")\n",
    "# WRITEOUT && exportPlotData(\"T$(pars.T)_B$(pars.B)/autofit_energy\", zip(Re[Ishow],model(I,fit.param)));"
   ]
  },
  {
   "cell_type": "code",
   "execution_count": null,
   "metadata": {
    "collapsed": false
   },
   "outputs": [],
   "source": [
    "Ishow = 1:500\n",
    "I = Ishow - 1\n",
    "model(x, p) = exp(-x./p[1])\n",
    "fitx = curve_fit(model, I, Rmx[Ishow], [10.])\n",
    "fity = curve_fit(model, I, Rmy[Ishow], [10.])\n",
    "fitz = curve_fit(model, I, Rmz[Ishow], [10.])\n",
    "plot(I, model(I,fitx.param), I, Rmx[Ishow], I, model(I,fity.param), I, Rmy[Ishow], I, model(I,fitz.param), I, Rmz[Ishow])\n",
    "info(\"Mx autocorrelation time: fit τ = $(fitx.param[1]), integrated τ = $(0.5 + sumabs(Rmx[Ishow[2:end]]))\")\n",
    "info(\"My autocorrelation time: fit τ = $(fity.param[1]), integrated τ = $(0.5 + sumabs(Rmy[Ishow[2:end]]))\")\n",
    "info(\"Mz autocorrelation time: fit τ = $(fitz.param[1]), integrated τ = $(0.5 + sumabs(Rmz[Ishow[2:end]]))\")\n",
    "# WRITEOUT && exportPlotData(\"T$(pars.T)_B$(pars.B)/autofit_mx\", zip(Rmx[Ishow],model(I,fitx.param)));\n",
    "# WRITEOUT && exportPlotData(\"T$(pars.T)_B$(pars.B)/autofit_my\", zip(Rmy[Ishow],model(I,fity.param)));\n",
    "# WRITEOUT && exportPlotData(\"T$(pars.T)_B$(pars.B)/autofit_mz\", zip(Rmz[Ishow],model(I,fitz.param)));"
   ]
  },
  {
   "cell_type": "code",
   "execution_count": null,
   "metadata": {
    "collapsed": false
   },
   "outputs": [],
   "source": [
    "plot(mon.accRate[2:300])\n",
    "# WRITEOUT && exportPlotData(\"T$(pars.T)_B$(pars.B)/accrate\", mon.accRate[2:300]);"
   ]
  },
  {
   "cell_type": "markdown",
   "metadata": {},
   "source": [
    "## Bragg Intensity"
   ]
  },
  {
   "cell_type": "code",
   "execution_count": null,
   "metadata": {
    "collapsed": false
   },
   "outputs": [],
   "source": [
    "using Images"
   ]
  },
  {
   "cell_type": "code",
   "execution_count": null,
   "metadata": {
    "collapsed": false
   },
   "outputs": [],
   "source": [
    "avg = loadDataset(\"highres/T0.8_B0.15_cmpct\", \"avg\");\n",
    "drawProj(braggIntensity(avg), 1, saveimg=false, name=string(\"t07b001\"))"
   ]
  },
  {
   "cell_type": "code",
   "execution_count": null,
   "metadata": {
    "collapsed": false
   },
   "outputs": [],
   "source": [
    "name = \"anneal/coarse/Ntot52920_4\"\n",
    "os = 121\n",
    "for i=1:10\n",
    "    avg = loadDataset(name, string(\"/avgs/avg_\",i));\n",
    "    drawProj(braggIntensity(avg), 3, saveimg=true, name=string(\"imgbragg_\",lpad(os+i,3,0)))\n",
    "end"
   ]
  },
  {
   "cell_type": "code",
   "execution_count": null,
   "metadata": {
    "collapsed": false
   },
   "outputs": [],
   "source": [
    "n = [61,40,20,10]\n",
    "sh = zeros(sum(n),2)\n",
    "dset = \"Mz_avg\"\n",
    "for i=1:4\n",
    "    name = string(\"anneal/coarse/Ntot52920_\",i)\n",
    "    for j = 1:n[i]\n",
    "        sh[sum(n[1:i-1])+j,:] = loadDataset(name, string(\"/res/\",dset,\"_\",j))\n",
    "    end\n",
    "end\n",
    "sh[62:101] -= sh[62]-sh[61];\n",
    "sh[102:121] -= sh[102]-sh[101];\n",
    "sh[122:131] -= sh[122]-sh[121];\n",
    "sh /= 42*42*30\n",
    "errorbar(1:sum(n), sh[:,1], yerr=sh[:,2], fmt=\".\", color=\"blue\")"
   ]
  },
  {
   "cell_type": "code",
   "execution_count": null,
   "metadata": {
    "collapsed": false
   },
   "outputs": [],
   "source": [
    "start = 70;\n",
    "for i = start:sum(n)\n",
    "    errorbar(start:i, sh[start:i,1], yerr=sh[start:i,2], fmt=\"o\", color=\"blue\")\n",
    "    ylabel(\"z Magnetization\")\n",
    "    xlabel(\"Time\")\n",
    "    axis([start-5,sum(n)+5,-0.33,-0.12])\n",
    "    savefig(string(\"../../data/img/mz_\",lpad(i,3,0),\".png\"))\n",
    "end"
   ]
  },
  {
   "cell_type": "markdown",
   "metadata": {},
   "source": [
    "## Phase Diagram"
   ]
  },
  {
   "cell_type": "code",
   "execution_count": null,
   "metadata": {
    "collapsed": false
   },
   "outputs": [],
   "source": [
    "function plotResultT(Ts, Bs, dset)\n",
    "    data = [loadDataset(\"focused/Ntot27000_T$(T)_B$(B)_cmpct\", dset) for T in Ts, B in Bs]\n",
    "    fig,ax = PyPlot.subplots()\n",
    "    for (i,B) in enumerate(Bs)\n",
    "        val = [data[j,i][1] for j in eachindex(Ts)]\n",
    "        err = [data[j,i][2] for j in eachindex(Ts)]\n",
    "        ax[:errorbar](Ts[5:end], val[5:end] + (i-1) * 0.5, yerr=err[5:end], fmt=\"o\", label=\"B=$(B)\")\n",
    "    end\n",
    "    ax[:legend](loc=\"upper right\")\n",
    "end\n",
    "\n",
    "function plotResultB(Ts, Bs, dset)\n",
    "    data = [loadDataset(\"focused/Ntot27000_T$(T)_B$(B)_cmpct\", dset) for T in Ts, B in Bs]\n",
    "    fig,ax = PyPlot.subplots()\n",
    "    for (i,T) in enumerate(Ts)\n",
    "        val = [data[i,j][1] for j in eachindex(Bs)]\n",
    "        err = [data[i,j][2] for j in eachindex(Bs)]\n",
    "        ax[:errorbar](Bs[:], val[:], yerr=err[:], fmt=\"o\", label=\"T=$(T)\")\n",
    "    end\n",
    "    ax[:legend](loc=\"upper right\")\n",
    "end"
   ]
  },
  {
   "cell_type": "code",
   "execution_count": null,
   "metadata": {
    "collapsed": false
   },
   "outputs": [],
   "source": [
    "Ts = 0.5:0.05:1.5\n",
    "Bs = [0.0 0.01 0.02 0.05 0.1 0.15 0.2 0.25 0.3 0.35 0.4]\n",
    "plotResultT(Ts, Bs, \"specific_heat\")"
   ]
  },
  {
   "cell_type": "code",
   "execution_count": null,
   "metadata": {
    "collapsed": true
   },
   "outputs": [],
   "source": [
    "plotResultB(Ts, Bs, \"susceptibility\")"
   ]
  },
  {
   "cell_type": "markdown",
   "metadata": {},
   "source": [
    "# Tests"
   ]
  },
  {
   "cell_type": "code",
   "execution_count": null,
   "metadata": {
    "collapsed": true
   },
   "outputs": [],
   "source": [
    "using Base.Test"
   ]
  },
  {
   "cell_type": "code",
   "execution_count": null,
   "metadata": {
    "collapsed": false
   },
   "outputs": [],
   "source": [
    "function testuniformS2()\n",
    "    N = 50\n",
    "    dims = (N, N, N)\n",
    "    grid = uniformS2(dims);\n",
    "    for i=1:*(dims...)\n",
    "        @test norm(grid[:,i]) ≈ 1.0\n",
    "    end\n",
    "    println(\"finished test: uniform points on S2\")\n",
    "end"
   ]
  },
  {
   "cell_type": "code",
   "execution_count": null,
   "metadata": {
    "collapsed": false
   },
   "outputs": [],
   "source": [
    "function test()\n",
    "    testuniformS2()\n",
    "    println(\"If you do not see any errors, all tests passed.\")\n",
    "end"
   ]
  },
  {
   "cell_type": "markdown",
   "metadata": {},
   "source": [
    "# Benchmarks"
   ]
  },
  {
   "cell_type": "markdown",
   "metadata": {},
   "source": [
    "## Random Vector Generation"
   ]
  },
  {
   "cell_type": "code",
   "execution_count": null,
   "metadata": {
    "collapsed": true
   },
   "outputs": [],
   "source": [
    "@inline function uniformS2n!(s::Vector{Float64})\n",
    "    s[1:3] = randn(3)\n",
    "    s[1:3] /= sqrt(s[1]*s[1] + s[2]*s[2] + s[3]*s[3])\n",
    "    nothing\n",
    "end\n",
    "\n",
    "@inline function uniformS2rej!(s::Vector{Float64})\n",
    "    x,y = 2.rand(2) - 1.0\n",
    "    squ = x*x + y*y\n",
    "    while squ ≥ 1.0\n",
    "        x,y = 2.rand(2) - 1.0\n",
    "        squ = x*x - y*y\n",
    "    end\n",
    "    sqr = sqrt(1.-squ)\n",
    "    s[1:3] = [2.x*sqr, 2.y*sqr, 1.-2.squ]\n",
    "    nothing\n",
    "end"
   ]
  },
  {
   "cell_type": "code",
   "execution_count": null,
   "metadata": {
    "collapsed": true
   },
   "outputs": [],
   "source": [
    "s = zeros(Float64,3);\n",
    "uniformS2!(s)\n",
    "uniformS2n!(s)\n",
    "uniformS2rej!(s)"
   ]
  },
  {
   "cell_type": "code",
   "execution_count": null,
   "metadata": {
    "collapsed": false
   },
   "outputs": [],
   "source": [
    "@time for i=1:10^7\n",
    "    uniformS2!(s)\n",
    "end"
   ]
  },
  {
   "cell_type": "code",
   "execution_count": null,
   "metadata": {
    "collapsed": false
   },
   "outputs": [],
   "source": [
    "@time for i=1:10^7\n",
    "    uniformS2n!(s)\n",
    "end"
   ]
  },
  {
   "cell_type": "code",
   "execution_count": null,
   "metadata": {
    "collapsed": false
   },
   "outputs": [],
   "source": [
    "@time for i=1:10^7\n",
    "    uniformS2rej!(s)\n",
    "end"
   ]
  }
 ],
 "metadata": {
  "kernelspec": {
   "display_name": "Julia 0.4.5",
   "language": "julia",
   "name": "julia-0.4"
  },
  "language_info": {
   "file_extension": ".jl",
   "mimetype": "application/julia",
   "name": "julia",
   "version": "0.4.5"
  }
 },
 "nbformat": 4,
 "nbformat_minor": 0
}
