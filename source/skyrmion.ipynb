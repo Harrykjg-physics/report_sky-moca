{
 "cells": [
  {
   "cell_type": "markdown",
   "metadata": {},
   "source": [
    "# Simulated Annealing for a 3D Skyrmion Lattice"
   ]
  },
  {
   "cell_type": "markdown",
   "metadata": {},
   "source": [
    "## TODOS\n",
    "\n",
    "* Recheck computations (signs in delta energy, acceptProb, ...)\n",
    "* Read and think about parallelization\n",
    "* Put analysis in place: autocorrelation, phase diagram, etc.\n",
    "* Best way to setup parameterfile that i can control from the makefile?"
   ]
  },
  {
   "cell_type": "code",
   "execution_count": null,
   "metadata": {
    "collapsed": false,
    "scrolled": true
   },
   "outputs": [],
   "source": [
    "using PyCall\n",
    "using PyPlot\n",
    "using HDF5\n",
    "using StatsBase\n",
    "# using ParallelAccelerator\n",
    "# using Distributions\n",
    "using Base.Profile\n",
    "using Base.Test\n",
    "using ProgressMeter"
   ]
  },
  {
   "cell_type": "markdown",
   "metadata": {},
   "source": [
    "## Parameters & Initialization"
   ]
  },
  {
   "cell_type": "code",
   "execution_count": null,
   "metadata": {
    "collapsed": true
   },
   "outputs": [],
   "source": [
    "srand(123);"
   ]
  },
  {
   "cell_type": "markdown",
   "metadata": {},
   "source": [
    "### Type Definitions and Initialization"
   ]
  },
  {
   "cell_type": "code",
   "execution_count": null,
   "metadata": {
    "collapsed": false
   },
   "outputs": [],
   "source": [
    "type Parameters\n",
    "    N::Int64 # number of lattice points in each direction\n",
    "    Ntot::Int64 # total number of lattice points\n",
    "    Ntherm::Int64 # number of sweeps for thermalization\n",
    "    Nsweeps::Int64 # number of sweeps between configurations\n",
    "    Nconfig::Int64 # number of configurations to save\n",
    "    T::Float64 # the current temperature\n",
    "    Tmu::Float64 # the reduction factor of the temperature\n",
    "    Tmin::Float64 # the minimal temperature at which we stop\n",
    "    J::Float64 # ferromagnetic exchange\n",
    "    Jp::Float64 # ferromagnetic exchange of correction term\n",
    "    K::Float64 # DM interaction\n",
    "    Kp::Float64 # DM interaction of correction term\n",
    "    B::Float64 # magnetic field in 3 direction\n",
    "    function Parameters(; N::Int64=10, Ntherm::Int64=3000, Nsweeps::Int64=30, Nconfig::Int64=100, T::Float64=1.0, Tmu::Float64=1.05, Tmin::Float64=1.0e-8, J::Float64=1.0, K::Float64=tan(2pi/10.0), B::Float64=0.0)\n",
    "        Ntot = N^3\n",
    "        Jp = J/16.0\n",
    "        Kp = K/8.0\n",
    "        new(N, Ntot, Ntherm, Nsweeps, Nconfig, T, Tmu, Tmin, J, Jp, K, Kp, B)\n",
    "    end\n",
    "end"
   ]
  },
  {
   "cell_type": "code",
   "execution_count": null,
   "metadata": {
    "collapsed": true
   },
   "outputs": [],
   "source": [
    "type Monitor\n",
    "    reject::Int64 # number of rejected steps\n",
    "    accept::Int64 # number of accepted steps\n",
    "    Monitor(; reject::Int64=0, accept::Int64=0) = new(reject, accept)\n",
    "end"
   ]
  },
  {
   "cell_type": "code",
   "execution_count": null,
   "metadata": {
    "collapsed": false
   },
   "outputs": [],
   "source": [
    "type Results\n",
    "    E::Vector{Float64} # total energy\n",
    "    Etmp::Float64 # current total energy\n",
    "    M::Array{Float64,2} # total magnetization\n",
    "    Mtmp::Vector{Float64} # current total magnetization\n",
    "    T::Vector{Float64} # temperature\n",
    "    os::Int64 # current offset (monte carlo time)\n",
    "    Results(pars::Parameters) = new(zeros(Float64, pars.Nconfig), 0.0, zeros(Float64, 3, pars.Nconfig), zeros(Float64, 3), zeros(Float64, pars.Nconfig), 0)\n",
    "end"
   ]
  },
  {
   "cell_type": "code",
   "execution_count": null,
   "metadata": {
    "collapsed": false
   },
   "outputs": [],
   "source": [
    "function init(pars::Parameters)\n",
    "    (Monitor(), Results(pars))\n",
    "end\n",
    "\n",
    "function init()\n",
    "    pars = Parameters()\n",
    "    (pars, init(pars)...)\n",
    "end"
   ]
  },
  {
   "cell_type": "markdown",
   "metadata": {},
   "source": [
    "### Grid Initialization"
   ]
  },
  {
   "cell_type": "code",
   "execution_count": null,
   "metadata": {
    "collapsed": false
   },
   "outputs": [],
   "source": [
    "function uniformS2(dims::Tuple{Int64,Int64,Int64})\n",
    "    phi = 2pi .* rand(dims)\n",
    "    u = 2rand(dims) - 1.0\n",
    "    squ = sqrt(1.0 - u.*u)\n",
    "    x = squ .* cos(phi)\n",
    "    y = squ .* sin(phi)\n",
    "    res = zeros(3,dims...)\n",
    "    for i=1:*(dims...)\n",
    "        @inbounds res[:,i] = [x[i] y[i] u[i]]\n",
    "    end\n",
    "    res\n",
    "end\n",
    "\n",
    "@inline function uniformS2!(s::Vector{Float64})\n",
    "    phi = 2pi*rand()\n",
    "    u = 2rand() - 1.0\n",
    "    squ = sqrt(1.0 - u*u)\n",
    "    s[1] = squ*cos(phi)\n",
    "    s[2] = squ*sin(phi)\n",
    "    s[3] = u\n",
    "    nothing\n",
    "end"
   ]
  },
  {
   "cell_type": "code",
   "execution_count": null,
   "metadata": {
    "collapsed": false
   },
   "outputs": [],
   "source": [
    "function initRandomGrid(dims::Tuple{Int64,Int64,Int64})\n",
    "    grid = uniformS2(dims)\n",
    "    res.Etmp = totalEnergy(grid)\n",
    "    res.Mtmp = totalMagnetization(grid)\n",
    "    info(\"Initialized random grid.\")\n",
    "    grid\n",
    "end\n",
    "\n",
    "function initRandomGrid()\n",
    "    initRandomGrid((pars.N, pars.N, pars.N))\n",
    "end"
   ]
  },
  {
   "cell_type": "code",
   "execution_count": null,
   "metadata": {
    "collapsed": false
   },
   "outputs": [],
   "source": [
    "@inline idx(i::Int64, N::Int64) = mod(i-1,N)+1"
   ]
  },
  {
   "cell_type": "markdown",
   "metadata": {},
   "source": [
    "## Hamiltonian"
   ]
  },
  {
   "cell_type": "code",
   "execution_count": null,
   "metadata": {
    "collapsed": false
   },
   "outputs": [],
   "source": [
    "@inline crossX(a::Vector{Float64}, b::Vector{Float64}) = -a[3]*b[2] + a[2]*b[3]\n",
    "@inline crossY(a::Vector{Float64}, b::Vector{Float64}) =  a[3]*b[1] - a[1]*b[3]\n",
    "@inline crossZ(a::Vector{Float64}, b::Vector{Float64}) = -a[2]*b[1] + a[1]*b[2]"
   ]
  },
  {
   "cell_type": "code",
   "execution_count": null,
   "metadata": {
    "collapsed": false
   },
   "outputs": [],
   "source": [
    "@inline function DMterm(grid::Array{Float64,4}, i::Int64, j::Int64, k::Int64, os::Int64)\n",
    "    const N = pars.N::Int64\n",
    "    crossX(grid[:,i,j,k], grid[:,idx(i+os,N),j,k]) +\n",
    "    crossY(grid[:,i,j,k], grid[:,i,idx(j+os,N),k]) +\n",
    "    crossZ(grid[:,i,j,k], grid[:,i,j,idx(k+os,N)])\n",
    "end"
   ]
  },
  {
   "cell_type": "code",
   "execution_count": null,
   "metadata": {
    "collapsed": false
   },
   "outputs": [],
   "source": [
    "function totalEnergy(grid::Array{Float64,4})\n",
    "    N = pars.N::Int64\n",
    "    E = 0.0\n",
    "    for k=1:N, j=1:N, i=1:N\n",
    "        E += - pars.B * grid[3,i,j,k] -\n",
    "        pars.J  * dot(grid[:,i,j,k], grid[:,idx(i+1,N),j,k] + grid[:,i,idx(j+1,N),k] + grid[:,i,j,idx(k+1,N)]) +\n",
    "             pars.Jp * dot(grid[:,i,j,k], grid[:,idx(i+2,N),j,k] + grid[:,i,idx(j+2,N),k] + grid[:,i,j,idx(k+2,N)]) -\n",
    "             pars.K  * DMterm(grid, i, j, k, 1) +\n",
    "             pars.Kp * DMterm(grid, i, j, k, 2)\n",
    "    end\n",
    "    E\n",
    "end"
   ]
  },
  {
   "cell_type": "code",
   "execution_count": null,
   "metadata": {
    "collapsed": false
   },
   "outputs": [],
   "source": [
    "function totalMagnetization(grid::Array{Float64,4})\n",
    "    N = pars.N::Int64\n",
    "    M = zeros(Float64, 3)\n",
    "    for k=1:N, j=1:N, i=1:N\n",
    "        @inbounds M += grid[:,i,j,k]\n",
    "    end\n",
    "    M\n",
    "end"
   ]
  },
  {
   "cell_type": "code",
   "execution_count": null,
   "metadata": {
    "collapsed": false
   },
   "outputs": [],
   "source": [
    "function energyChange(grid::Array{Float64,4}, snew::Vector{Float64}, i::Int64, j::Int64, k::Int64)\n",
    "    const N = pars.N::Int64\n",
    "    im1 = idx(i-1,N); im2 = idx(i-2,N); ip1 = idx(i+1,N); ip2 = idx(i+2,N)\n",
    "    jm1 = idx(j-1,N); jm2 = idx(j-2,N); jp1 = idx(j+1,N); jp2 = idx(j+2,N)\n",
    "    km1 = idx(k-1,N); km2 = idx(k-2,N); kp1 = idx(k+1,N); kp2 = idx(k+2,N)\n",
    "    sdiff = snew - grid[:,i,j,k]\n",
    "    -pars.B::Float64 * sdiff[3] -\n",
    "    pars.J::Float64  * dot(sdiff, grid[:,im1,j,k] + grid[:,ip1,j,k] + grid[:,i,jm1,k] + grid[:,i,jp1,k] + grid[:,i,j,km1] + grid[:,i,j,kp1]) +\n",
    "    pars.Jp::Float64 * dot(sdiff, grid[:,im2,j,k] + grid[:,ip2,j,k] + grid[:,i,jm2,k] + grid[:,i,jp2,k] + grid[:,i,j,km2] + grid[:,i,j,kp2]) -\n",
    "    pars.K::Float64  * (crossX(sdiff, grid[:,ip1,j,k] - grid[:,im1,j,k]) +\n",
    "                        crossY(sdiff, grid[:,i,jp1,k] - grid[:,i,jm1,k]) +\n",
    "                        crossZ(sdiff, grid[:,i,j,kp1] - grid[:,i,j,km1])) +\n",
    "    pars.Kp::Float64 * (crossX(sdiff, grid[:,ip2,j,k] - grid[:,im2,j,k]) +\n",
    "                        crossY(sdiff, grid[:,i,jp2,k] - grid[:,i,jm2,k]) +\n",
    "                        crossZ(sdiff, grid[:,i,j,kp2] - grid[:,i,j,km2]))\n",
    "end"
   ]
  },
  {
   "cell_type": "markdown",
   "metadata": {},
   "source": [
    "## Simulated Annealing"
   ]
  },
  {
   "cell_type": "code",
   "execution_count": null,
   "metadata": {
    "collapsed": false
   },
   "outputs": [],
   "source": [
    "@inline stepT!() = (pars.T::Float64 /= pars.Tmu::Float64)"
   ]
  },
  {
   "cell_type": "code",
   "execution_count": null,
   "metadata": {
    "collapsed": false
   },
   "outputs": [],
   "source": [
    "@inline acceptProb(del::Float64, T::Float64) = exp(-del/T)"
   ]
  },
  {
   "cell_type": "code",
   "execution_count": null,
   "metadata": {
    "collapsed": false
   },
   "outputs": [],
   "source": [
    "function acceptMove!(grid::Array{Float64,4}, snew::Vector{Float64}, dE::Float64, i::Int64, j::Int64, k::Int64)\n",
    "    mon.accept::Int64 += 1\n",
    "    res.Etmp::Float64 += dE\n",
    "    res.Mtmp::Vector{Float64} += snew - grid[:,i,j,k]\n",
    "    grid[:,i,j,k] = snew\n",
    "end"
   ]
  },
  {
   "cell_type": "code",
   "execution_count": null,
   "metadata": {
    "collapsed": false
   },
   "outputs": [],
   "source": [
    "function update!(grid::Array{Float64,4}, snew::Vector{Float64})\n",
    "    i,j,k = rand(1:pars.N::Int64, 3)\n",
    "    uniformS2!(snew)\n",
    "    dE = energyChange(grid, snew, i, j, k)\n",
    "    if dE < 0.0 || acceptProb(dE, pars.T::Float64) >= rand()\n",
    "        acceptMove!(grid, snew, dE, i, j, k)\n",
    "    else\n",
    "        mon.reject::Int64 += 1\n",
    "    end\n",
    "end"
   ]
  },
  {
   "cell_type": "code",
   "execution_count": null,
   "metadata": {
    "collapsed": false
   },
   "outputs": [],
   "source": [
    "@inline function sweep!(grid::Array{Float64,4}, snew::Vector{Float64})\n",
    "    for i=1:pars.Ntot::Int64\n",
    "        update!(grid, snew)\n",
    "    end\n",
    "end"
   ]
  },
  {
   "cell_type": "code",
   "execution_count": null,
   "metadata": {
    "collapsed": false
   },
   "outputs": [],
   "source": [
    "function nextconfig!(grid::Array{Float64,4})\n",
    "    snew = zeros(Float64, 3)\n",
    "    for j=1:pars.Nsweeps::Int64\n",
    "        sweep!(grid, snew)\n",
    "    end\n",
    "end"
   ]
  },
  {
   "cell_type": "code",
   "execution_count": null,
   "metadata": {
    "collapsed": false
   },
   "outputs": [],
   "source": [
    "function thermalize!(grid::Array{Float64,4})\n",
    "    snew = zeros(Float64, 3)\n",
    "    @showprogress 1 \"Thermalizing...\" for i=1:pars.Ntherm::Int64\n",
    "        sweep!(grid, snew)\n",
    "    end\n",
    "    info(\"The system has thermalized.\")\n",
    "end\n",
    "\n",
    "function thermalize()\n",
    "    grid = initRandomGrid()\n",
    "    thermalize!(grid)\n",
    "    grid\n",
    "end"
   ]
  },
  {
   "cell_type": "code",
   "execution_count": null,
   "metadata": {
    "collapsed": false
   },
   "outputs": [],
   "source": [
    "function run!(grid::Array{Float64,4}, filename::ASCIIString)\n",
    "    thermalize!(grid)\n",
    "    h5open(getPath(filename), \"w\") do file\n",
    "        conf = d_create(file, \"configs\", datatype(Float64), dataspace(3,pars.N,pars.N,pars.N,pars.Nconfig),\"chunk\",(3,pars.N,pars.N,pars.N,1))\n",
    "        avg = d_create(file, \"avg\", datatype(Float64), dataspace(3,pars.N,pars.N,pars.N))\n",
    "        snapshot(grid, conf, avg)\n",
    "        @showprogress 1 \"Main run...\" for i = 1:pars.Nconfig::Int64-1\n",
    "            nextconfig!(grid)\n",
    "            snapshot(grid, conf, avg)\n",
    "            # stepT!()\n",
    "            if 0.0 < pars.T < pars.Tmin\n",
    "                info(\"Cooled below minimal temperature: $(pars.Tmin)\")\n",
    "                break\n",
    "            end\n",
    "        end\n",
    "        finalOutput(file, avg)\n",
    "    end\n",
    "    info(\"Finished run.\")\n",
    "    grid\n",
    "end\n",
    "\n",
    "function run(filename::ASCIIString)\n",
    "    grid = initRandomGrid()\n",
    "    run!(grid, filename)\n",
    "end"
   ]
  },
  {
   "cell_type": "markdown",
   "metadata": {},
   "source": [
    "## Output"
   ]
  },
  {
   "cell_type": "code",
   "execution_count": null,
   "metadata": {
    "collapsed": false
   },
   "outputs": [],
   "source": [
    "function snapshot(grid::Array{Float64,4}, conf::HDF5Dataset, avg::HDF5Dataset)\n",
    "    res.os::Int64 += 1\n",
    "    res.E[res.os] = res.Etmp::Float64\n",
    "    res.M[:,res.os] = res.Mtmp::Vector{Float64}\n",
    "    res.T[res.os] = pars.T::Float64\n",
    "    appendConfig(grid, res.os, conf)\n",
    "    addConfig(grid, avg)\n",
    "end"
   ]
  },
  {
   "cell_type": "code",
   "execution_count": null,
   "metadata": {
    "collapsed": false
   },
   "outputs": [],
   "source": [
    "function finalOutput(file::HDF5File, avg::HDF5Dataset)\n",
    "    file[\"energy\"] = res.E\n",
    "    file[\"magnetization\"] = res.M\n",
    "    file[\"temperature\"] = res.T\n",
    "    writeParameters(file)\n",
    "    averageConfigs(avg)\n",
    "end"
   ]
  },
  {
   "cell_type": "code",
   "execution_count": null,
   "metadata": {
    "collapsed": false
   },
   "outputs": [],
   "source": [
    "function writeParameters(file::HDF5File)\n",
    "    file[\"parameters/N\"] = pars.N\n",
    "    file[\"parameters/Ntherm\"] = pars.Ntherm\n",
    "    file[\"parameters/Nsweeps\"] = pars.Nsweeps\n",
    "    file[\"parameters/Nconfig\"] = pars.Nconfig\n",
    "    file[\"parameters/J\"] = pars.J\n",
    "    file[\"parameters/Jp\"] = pars.Jp\n",
    "    file[\"parameters/K\"] = pars.K\n",
    "    file[\"parameters/Kp\"] = pars.Kp\n",
    "end"
   ]
  },
  {
   "cell_type": "code",
   "execution_count": null,
   "metadata": {
    "collapsed": false
   },
   "outputs": [],
   "source": [
    "@inline function averageConfigs(avg::HDF5Dataset)\n",
    "    avg[:,:,:,:] /= pars.Nconfig\n",
    "end"
   ]
  },
  {
   "cell_type": "code",
   "execution_count": null,
   "metadata": {
    "collapsed": false
   },
   "outputs": [],
   "source": [
    "@inline function appendConfig(grid::Array{Float64,4}, os::Int64, conf::HDF5Dataset)\n",
    "    conf[:,:,:,:,os] = grid[:,:,:,:]\n",
    "end"
   ]
  },
  {
   "cell_type": "code",
   "execution_count": null,
   "metadata": {
    "collapsed": false
   },
   "outputs": [],
   "source": [
    "@inline function addConfig(grid::Array{Float64,4}, avg::HDF5Dataset)\n",
    "    avg[:,:,:,:] += grid[:,:,:,:]\n",
    "end"
   ]
  },
  {
   "cell_type": "code",
   "execution_count": null,
   "metadata": {
    "collapsed": false
   },
   "outputs": [],
   "source": [
    "@inline function getPath(filename::ASCIIString)\n",
    "    string(\"../../data/\", filename, \".h5\")\n",
    "end"
   ]
  },
  {
   "cell_type": "code",
   "execution_count": null,
   "metadata": {
    "collapsed": false
   },
   "outputs": [],
   "source": [
    "@inline function writeArray(data::Array{Float64}, filename::ASCIIString, dataset::ASCIIString=filename)\n",
    "    h5write(getPath(filename), dataset, data)\n",
    "end"
   ]
  },
  {
   "cell_type": "code",
   "execution_count": null,
   "metadata": {
    "collapsed": false
   },
   "outputs": [],
   "source": [
    "@inline function writeGrid(grid::Array{Float64,4}, filename::ASCIIString)\n",
    "    writeArray(grid, filename, \"grid\")\n",
    "end"
   ]
  },
  {
   "cell_type": "markdown",
   "metadata": {},
   "source": [
    "## Postprocessing"
   ]
  },
  {
   "cell_type": "markdown",
   "metadata": {},
   "source": [
    "### Basic Statistics"
   ]
  },
  {
   "cell_type": "code",
   "execution_count": null,
   "metadata": {
    "collapsed": false
   },
   "outputs": [],
   "source": [
    "function variance_meansq(f::Array{Float64}; mean=nothing, meansq=nothing)\n",
    "    if meansq == nothing\n",
    "        if mean == nothing\n",
    "            mean::Float64 = Base.mean(f)\n",
    "        end\n",
    "        meansq = mean*mean\n",
    "    end\n",
    "    (sumabs2(f)/length(f) - meansq, meansq)\n",
    "end"
   ]
  },
  {
   "cell_type": "code",
   "execution_count": null,
   "metadata": {
    "collapsed": false
   },
   "outputs": [],
   "source": [
    "function autocorr(f::Vector{Float64})\n",
    "    meansq, var = variance_meansq(f)\n",
    "    N = length(f)\n",
    "    auto = zeros(Float64, N)\n",
    "    for t=0:N-1\n",
    "        tmp = 0.0\n",
    "        for i=1:N-t\n",
    "            tmp += f[i]*f[i+t]\n",
    "        end\n",
    "        auto[t+1] = (tmp/(N-t) - meansq) / var\n",
    "    end\n",
    "    auto\n",
    "end"
   ]
  },
  {
   "cell_type": "code",
   "execution_count": null,
   "metadata": {
    "collapsed": false
   },
   "outputs": [],
   "source": [
    "function intAutoTime(f::Vector{Float64}, N::Int64; isautocorr=false)\n",
    "    if !isautocorr\n",
    "        f = autocorr(f)\n",
    "    end\n",
    "    0.5 + sum(f[2:N])\n",
    "end\n",
    "\n",
    "function intAutoTime(f::Vector{Float64}; isautocorr=false)\n",
    "    intAutoTime(f, length(f), isautocorr=isautocorr)\n",
    "end"
   ]
  },
  {
   "cell_type": "code",
   "execution_count": null,
   "metadata": {
    "collapsed": false
   },
   "outputs": [],
   "source": [
    "# experimental, still flawed\n",
    "function findIntAutoTime(f::Vector{Float64})\n",
    "    auto = autocorr(f)\n",
    "    I = 2:fld(length(f),5)\n",
    "    ts = zeros(size(I))\n",
    "    for (i, tau) in enumerate(I)\n",
    "        ts[i] = intAutoTime(auto, 5tau, isautocorr=true)\n",
    "    end\n",
    "    val, i = findmin(abs(ts-tau))\n",
    "    (i, ts)\n",
    "end"
   ]
  },
  {
   "cell_type": "markdown",
   "metadata": {},
   "source": [
    "### Skyrmion Specifics"
   ]
  },
  {
   "cell_type": "code",
   "execution_count": null,
   "metadata": {
    "collapsed": false
   },
   "outputs": [],
   "source": [
    "@inline getX(grid::Array{Float64}) = squeeze(grid[1,:],1)\n",
    "@inline getY(grid::Array{Float64}) = squeeze(grid[2,:],1)\n",
    "@inline getZ(grid::Array{Float64}) = squeeze(grid[3,:],1)"
   ]
  },
  {
   "cell_type": "code",
   "execution_count": null,
   "metadata": {
    "collapsed": false
   },
   "outputs": [],
   "source": [
    "@inline averageSpins(M::Array{Float64,2}) = M/pars.Ntot\n",
    "@inline averageSpins!(M::Array{Float64,2}) = (M /= pars.Ntot; nothing)"
   ]
  },
  {
   "cell_type": "code",
   "execution_count": null,
   "metadata": {
    "collapsed": false
   },
   "outputs": [],
   "source": [
    "function braggIntensity(S::Array{Float64,2})\n",
    "end"
   ]
  },
  {
   "cell_type": "code",
   "execution_count": null,
   "metadata": {
    "collapsed": false
   },
   "outputs": [],
   "source": [
    "function fft3(f::Array{Float64,3}, N::Int64)\n",
    "    FFTW.set_num_threads(4)\n",
    "    fft(f,(N, N, N))\n",
    "end"
   ]
  },
  {
   "cell_type": "markdown",
   "metadata": {},
   "source": [
    "## Run the Simulation"
   ]
  },
  {
   "cell_type": "code",
   "execution_count": null,
   "metadata": {
    "collapsed": false
   },
   "outputs": [],
   "source": [
    "pars = Parameters(N=30, Ntherm=5000, Nsweeps=30, Nconfig=2000, T=0.0, B=0.0)\n",
    "mon, res = init(pars);\n",
    "pars.T, pars.B, pars.J, pars.K, pars.N, pars.Ntherm, pars.Nconfig"
   ]
  },
  {
   "cell_type": "code",
   "execution_count": null,
   "metadata": {
    "collapsed": false
   },
   "outputs": [],
   "source": [
    "@time grid = run(\"T$(pars.T)_N$(pars.N)\");"
   ]
  },
  {
   "cell_type": "code",
   "execution_count": null,
   "metadata": {
    "collapsed": false
   },
   "outputs": [],
   "source": [
    "tMC = 1:pars.Nconfig\n",
    "plot(tMC, res.E)\n",
    "figure()\n",
    "plot(tMC, getX(res.M), tMC, getY(res.M), tMC, getZ(res.M))"
   ]
  },
  {
   "cell_type": "code",
   "execution_count": null,
   "metadata": {
    "collapsed": false
   },
   "outputs": [],
   "source": [
    "plot(autocor(res.E,0:size(res.E,1)-1))\n",
    "figure()\n",
    "plot(tMC, autocor(getX(res.M),0:pars.Nconfig-1),tMC, autocor(getY(res.M),0:pars.Nconfig-1),tMC, autocor(getZ(res.M),0:pars.Nconfig-1))"
   ]
  },
  {
   "cell_type": "code",
   "execution_count": null,
   "metadata": {
    "collapsed": false
   },
   "outputs": [],
   "source": [
    "# Profile.clear()\n",
    "# Profile.init()\n",
    "# @time run();"
   ]
  },
  {
   "cell_type": "code",
   "execution_count": null,
   "metadata": {
    "collapsed": false
   },
   "outputs": [],
   "source": [
    "# data, lidict = Profile.retrieve();"
   ]
  },
  {
   "cell_type": "markdown",
   "metadata": {},
   "source": [
    "## Tests"
   ]
  },
  {
   "cell_type": "code",
   "execution_count": null,
   "metadata": {
    "collapsed": false
   },
   "outputs": [],
   "source": [
    "function testuniformS2()\n",
    "    N = 50\n",
    "    dims = (N, N, N)\n",
    "    grid = uniformS2(dims);\n",
    "    for i=1:*(dims...)\n",
    "        @test norm(grid[:,i]) ≈ 1.0\n",
    "    end\n",
    "    println(\"finished test: uniform points on S2\")\n",
    "end"
   ]
  },
  {
   "cell_type": "code",
   "execution_count": null,
   "metadata": {
    "collapsed": false
   },
   "outputs": [],
   "source": [
    "function test()\n",
    "    testuniformS2()\n",
    "    println(\"If you do not see any errors, all tests passed.\")\n",
    "end"
   ]
  }
 ],
 "metadata": {
  "kernelspec": {
   "display_name": "Julia 0.4.5",
   "language": "julia",
   "name": "julia-0.4"
  },
  "language_info": {
   "file_extension": ".jl",
   "mimetype": "application/julia",
   "name": "julia",
   "version": "0.4.5"
  }
 },
 "nbformat": 4,
 "nbformat_minor": 0
}
