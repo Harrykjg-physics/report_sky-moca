{
 "cells": [
  {
   "cell_type": "markdown",
   "metadata": {},
   "source": [
    "# Simulated Annealing for a 3D Spin Lattice"
   ]
  },
  {
   "cell_type": "markdown",
   "metadata": {},
   "source": [
    "## TODOS\n",
    "\n",
    "* test annealing schedules"
   ]
  },
  {
   "cell_type": "markdown",
   "metadata": {},
   "source": [
    "## Parameters & Initialization"
   ]
  },
  {
   "cell_type": "code",
   "execution_count": null,
   "metadata": {
    "collapsed": false,
    "scrolled": true
   },
   "outputs": [],
   "source": [
    "using HDF5\n",
    "using StatsBase\n",
    "using ProgressMeter"
   ]
  },
  {
   "cell_type": "code",
   "execution_count": null,
   "metadata": {
    "collapsed": true
   },
   "outputs": [],
   "source": [
    "srand(42);"
   ]
  },
  {
   "cell_type": "markdown",
   "metadata": {},
   "source": [
    "### Type Definitions and Initialization"
   ]
  },
  {
   "cell_type": "code",
   "execution_count": null,
   "metadata": {
    "collapsed": false
   },
   "outputs": [],
   "source": [
    "type Schedule\n",
    "    T::Vector{Float64} # the annealing schedule for the temperature\n",
    "    B::Vector{Float64} # the annealing schedule for the magnetic field\n",
    "    os::Int64 # current index in the schedule\n",
    "    Schedule(T::Vector{Float64}, B::Vector{Float64}) = new(T, B, 1)\n",
    "end"
   ]
  },
  {
   "cell_type": "code",
   "execution_count": null,
   "metadata": {
    "collapsed": false
   },
   "outputs": [],
   "source": [
    "type Parameters\n",
    "    N::Int64 # number of lattice points in each direction\n",
    "    Ntot::Int64 # total number of lattice points\n",
    "    Ntherm::Int64 # number of sweeps for thermalization\n",
    "    Nsweeps::Int64 # number of sweeps between configurations\n",
    "    Nconfig::Int64 # number of configurations to save\n",
    "    T::Float64 # the current temperature\n",
    "    J::Float64 # ferromagnetic exchange\n",
    "    Jp::Float64 # ferromagnetic exchange of correction term\n",
    "    K::Float64 # DM interaction\n",
    "    Kp::Float64 # DM interaction of correction term\n",
    "    B::Float64 # magnetic field in 3 direction\n",
    "    function Parameters(; N::Int64=30, Ntherm::Int64=20000, Nsweeps::Int64=50, Nconfig::Int64=2000, T::Float64=0.0, J::Float64=1.0, K::Float64=tan(2pi/10.0), B::Float64=0.0)\n",
    "        Ntot = N^3; Jp = J/16.0; Kp = K/8.0\n",
    "        new(N, Ntot, Ntherm, Nsweeps, Nconfig, T, J, Jp, K, Kp, B)\n",
    "    end\n",
    "    function Parameters(anneal::Schedule; N::Int64=30, Ntherm::Int64=20000, Nsweeps::Int64=50, Nconfig::Int64=2000)\n",
    "        Parameters(N=N, Ntherm=Ntherm, Nsweeps=Nsweeps, Nconfig=Nconfig, T=anneal.T[1], B=anneal.B[1])\n",
    "    end\n",
    "end"
   ]
  },
  {
   "cell_type": "code",
   "execution_count": null,
   "metadata": {
    "collapsed": false
   },
   "outputs": [],
   "source": [
    "type Monitor\n",
    "    Nrej::Int64 # number of overall rejected moves\n",
    "    Nacc::Int64 # number of overall accepted moves\n",
    "    nacc::Int64 # number of accepted moves per config\n",
    "    accRate::Vector{Float64} # evolution of acceptance rate\n",
    "    Monitor(pars::Parameters) = new(0, 0, 0, zeros(Float64, pars.Nconfig))\n",
    "end"
   ]
  },
  {
   "cell_type": "code",
   "execution_count": null,
   "metadata": {
    "collapsed": false
   },
   "outputs": [],
   "source": [
    "type Results\n",
    "    E::Vector{Float64} # total energy\n",
    "    Etmp::Float64 # current total energy\n",
    "    M::Array{Float64,2} # total magnetization\n",
    "    Mtmp::Vector{Float64} # current total magnetization\n",
    "    T::Vector{Float64} # temperature\n",
    "    os::Int64 # current offset (monte carlo time)\n",
    "    Results(pars::Parameters) = new(zeros(Float64, pars.Nconfig), 0.0, zeros(Float64, 3, pars.Nconfig), zeros(Float64, 3), zeros(Float64, pars.Nconfig), 0)\n",
    "end"
   ]
  },
  {
   "cell_type": "code",
   "execution_count": null,
   "metadata": {
    "collapsed": false
   },
   "outputs": [],
   "source": [
    "init(pars::Parameters) = (Monitor(pars), Results(pars))\n",
    "\n",
    "function init(anneal::Schedule)\n",
    "    pars = Parameters(anneal)\n",
    "    (pars, init(pars)...)\n",
    "end"
   ]
  },
  {
   "cell_type": "markdown",
   "metadata": {},
   "source": [
    "### Grid Initialization"
   ]
  },
  {
   "cell_type": "code",
   "execution_count": null,
   "metadata": {
    "collapsed": false
   },
   "outputs": [],
   "source": [
    "function uniformS2(dims::Tuple{Int64,Int64,Int64})\n",
    "    phi = 2pi .* rand(dims)\n",
    "    u = 2rand(dims) - 1.0\n",
    "    squ = sqrt(1.0 - u.*u)\n",
    "    x = squ .* cos(phi)\n",
    "    y = squ .* sin(phi)\n",
    "    res = zeros(3,dims...)\n",
    "    # TODO: this should be doable with smart stacking and reshape\n",
    "    for i=1:*(dims...)\n",
    "        @inbounds res[:,i] = [x[i] y[i] u[i]]\n",
    "    end\n",
    "    res\n",
    "end\n",
    "\n",
    "@inline function uniformS2!(s::Vector{Float64})\n",
    "    phi = 2pi*rand()\n",
    "    u = 2rand() - 1.0\n",
    "    squ = sqrt(1.0 - u*u)\n",
    "    s[1:3] = [squ*cos(phi), squ*sin(phi), u]\n",
    "    nothing\n",
    "end"
   ]
  },
  {
   "cell_type": "code",
   "execution_count": null,
   "metadata": {
    "collapsed": false
   },
   "outputs": [],
   "source": [
    "function initRandomGrid(dims::Tuple{Int64,Int64,Int64})\n",
    "    grid = uniformS2(dims)\n",
    "    res.Etmp = totalEnergy(grid)\n",
    "    res.Mtmp = totalMagnetization(grid)\n",
    "    info(\"Initialized random grid.\")\n",
    "    grid\n",
    "end\n",
    "\n",
    "@inline initRandomGrid() = initRandomGrid((pars.N, pars.N, pars.N))"
   ]
  },
  {
   "cell_type": "code",
   "execution_count": null,
   "metadata": {
    "collapsed": false
   },
   "outputs": [],
   "source": [
    "@inline idx(i::Int64, N::Int64) = mod(i-1,N)+1"
   ]
  },
  {
   "cell_type": "markdown",
   "metadata": {},
   "source": [
    "## Hamiltonian"
   ]
  },
  {
   "cell_type": "code",
   "execution_count": null,
   "metadata": {
    "collapsed": false
   },
   "outputs": [],
   "source": [
    "@inline crossX(a::Vector{Float64}, b::Vector{Float64}) = -a[3]*b[2] + a[2]*b[3]\n",
    "@inline crossY(a::Vector{Float64}, b::Vector{Float64}) =  a[3]*b[1] - a[1]*b[3]\n",
    "@inline crossZ(a::Vector{Float64}, b::Vector{Float64}) = -a[2]*b[1] + a[1]*b[2]"
   ]
  },
  {
   "cell_type": "code",
   "execution_count": null,
   "metadata": {
    "collapsed": false
   },
   "outputs": [],
   "source": [
    "@inline function DMterm(grid::Array{Float64,4}, i::Int64, j::Int64, k::Int64, os::Int64)\n",
    "    const N = pars.N::Int64\n",
    "    crossX(grid[:,i,j,k], grid[:,idx(i+os,N),j,k]) +\n",
    "    crossY(grid[:,i,j,k], grid[:,i,idx(j+os,N),k]) +\n",
    "    crossZ(grid[:,i,j,k], grid[:,i,j,idx(k+os,N)])\n",
    "end"
   ]
  },
  {
   "cell_type": "code",
   "execution_count": null,
   "metadata": {
    "collapsed": false
   },
   "outputs": [],
   "source": [
    "function totalEnergy(grid::Array{Float64,4})\n",
    "    N = pars.N\n",
    "    E = 0.0\n",
    "    for k=1:N, j=1:N, i=1:N\n",
    "        E += - pars.B * grid[3,i,j,k] -\n",
    "        pars.J  * dot(grid[:,i,j,k], grid[:,idx(i+1,N),j,k] + grid[:,i,idx(j+1,N),k] + grid[:,i,j,idx(k+1,N)]) +\n",
    "             pars.Jp * dot(grid[:,i,j,k], grid[:,idx(i+2,N),j,k] + grid[:,i,idx(j+2,N),k] + grid[:,i,j,idx(k+2,N)]) -\n",
    "             pars.K  * DMterm(grid, i, j, k, 1) +\n",
    "             pars.Kp * DMterm(grid, i, j, k, 2)\n",
    "    end\n",
    "    E\n",
    "end"
   ]
  },
  {
   "cell_type": "code",
   "execution_count": null,
   "metadata": {
    "collapsed": false
   },
   "outputs": [],
   "source": [
    "function totalMagnetization(grid::Array{Float64,4})\n",
    "    N = pars.N\n",
    "    M = zeros(Float64, 3)\n",
    "    for i=1:pars.Ntot\n",
    "        @inbounds M += grid[:,i]\n",
    "    end\n",
    "    M\n",
    "end"
   ]
  },
  {
   "cell_type": "code",
   "execution_count": null,
   "metadata": {
    "collapsed": false
   },
   "outputs": [],
   "source": [
    "function energyChange(grid::Array{Float64,4}, snew::Vector{Float64}, i::Int64, j::Int64, k::Int64)\n",
    "    const N = pars.N::Int64\n",
    "    im1 = idx(i-1,N); im2 = idx(i-2,N); ip1 = idx(i+1,N); ip2 = idx(i+2,N)\n",
    "    jm1 = idx(j-1,N); jm2 = idx(j-2,N); jp1 = idx(j+1,N); jp2 = idx(j+2,N)\n",
    "    km1 = idx(k-1,N); km2 = idx(k-2,N); kp1 = idx(k+1,N); kp2 = idx(k+2,N)\n",
    "    sdiff = snew - grid[:,i,j,k]\n",
    "    -pars.B::Float64 * sdiff[3] -\n",
    "    pars.J::Float64  * dot(sdiff, grid[:,im1,j,k] + grid[:,ip1,j,k] + grid[:,i,jm1,k] + grid[:,i,jp1,k] + grid[:,i,j,km1] + grid[:,i,j,kp1]) +\n",
    "    pars.Jp::Float64 * dot(sdiff, grid[:,im2,j,k] + grid[:,ip2,j,k] + grid[:,i,jm2,k] + grid[:,i,jp2,k] + grid[:,i,j,km2] + grid[:,i,j,kp2]) -\n",
    "    pars.K::Float64  * (crossX(sdiff, grid[:,ip1,j,k] - grid[:,im1,j,k]) +\n",
    "                        crossY(sdiff, grid[:,i,jp1,k] - grid[:,i,jm1,k]) +\n",
    "                        crossZ(sdiff, grid[:,i,j,kp1] - grid[:,i,j,km1])) +\n",
    "    pars.Kp::Float64 * (crossX(sdiff, grid[:,ip2,j,k] - grid[:,im2,j,k]) +\n",
    "                        crossY(sdiff, grid[:,i,jp2,k] - grid[:,i,jm2,k]) +\n",
    "                        crossZ(sdiff, grid[:,i,j,kp2] - grid[:,i,j,km2]))\n",
    "end"
   ]
  },
  {
   "cell_type": "markdown",
   "metadata": {},
   "source": [
    "## Simulated Annealing"
   ]
  },
  {
   "cell_type": "code",
   "execution_count": null,
   "metadata": {
    "collapsed": false
   },
   "outputs": [],
   "source": [
    "function scheduleNext(anneal::Schedule)\n",
    "    (anneal.os += 1) > length(anneal.T) + length(anneal.B) - 1 && return false\n",
    "    anneal.os > length(anneal.T) ? (pars.T = anneal.T[anneal.os]) : pars.B = anneal.B[anneal.os % length(anneal.T)]\n",
    "    return true\n",
    "end"
   ]
  },
  {
   "cell_type": "code",
   "execution_count": null,
   "metadata": {
    "collapsed": false
   },
   "outputs": [],
   "source": [
    "@inline acceptProb(del::Float64, T::Float64) = exp(-del/T)"
   ]
  },
  {
   "cell_type": "code",
   "execution_count": null,
   "metadata": {
    "collapsed": false
   },
   "outputs": [],
   "source": [
    "function acceptMove!(grid::Array{Float64,4}, snew::Vector{Float64}, dE::Float64, i::Int64, j::Int64, k::Int64)\n",
    "    mon.Nacc::Int64 += 1\n",
    "    mon.nacc::Int64 += 1\n",
    "    res.Etmp::Float64 += dE\n",
    "    res.Mtmp::Vector{Float64} += snew - grid[:,i,j,k]\n",
    "    grid[:,i,j,k] = snew\n",
    "end"
   ]
  },
  {
   "cell_type": "code",
   "execution_count": null,
   "metadata": {
    "collapsed": false
   },
   "outputs": [],
   "source": [
    "function update!(grid::Array{Float64,4}, snew::Vector{Float64})\n",
    "    i,j,k = rand(1:pars.N::Int64, 3)\n",
    "    uniformS2!(snew)\n",
    "    dE = energyChange(grid, snew, i, j, k)\n",
    "    if dE < 0.0 || acceptProb(dE, pars.T::Float64) >= rand()\n",
    "        acceptMove!(grid, snew, dE, i, j, k)\n",
    "    else\n",
    "        mon.Nrej::Int64 += 1\n",
    "    end\n",
    "end"
   ]
  },
  {
   "cell_type": "code",
   "execution_count": null,
   "metadata": {
    "collapsed": false
   },
   "outputs": [],
   "source": [
    "@inline function sweep!(grid::Array{Float64,4}, snew::Vector{Float64})\n",
    "    for i=1:pars.Ntot\n",
    "        update!(grid, snew)\n",
    "    end\n",
    "end"
   ]
  },
  {
   "cell_type": "code",
   "execution_count": null,
   "metadata": {
    "collapsed": false
   },
   "outputs": [],
   "source": [
    "function nextconfig!(grid::Array{Float64,4})\n",
    "    snew = zeros(Float64, 3)\n",
    "    for j=1:pars.Nsweeps\n",
    "        sweep!(grid, snew)\n",
    "    end\n",
    "end"
   ]
  },
  {
   "cell_type": "code",
   "execution_count": null,
   "metadata": {
    "collapsed": false
   },
   "outputs": [],
   "source": [
    "function thermalize!(grid::Array{Float64,4})\n",
    "    info(\"Start thermalizing...\")\n",
    "    snew = zeros(Float64, 3)\n",
    "    @showprogress 1 \"Thermalizing...\" for i=1:pars.Ntherm::Int64\n",
    "        sweep!(grid, snew)\n",
    "    end\n",
    "    info(\"Finished thermalizing.\")\n",
    "    grid\n",
    "end\n",
    "\n",
    "function thermalize()\n",
    "    grid = initRandomGrid()\n",
    "    thermalize!(grid)\n",
    "end"
   ]
  },
  {
   "cell_type": "code",
   "execution_count": null,
   "metadata": {
    "collapsed": false
   },
   "outputs": [],
   "source": [
    "function annealing!(grid::Array{Float64,4}, anneal::Schedule)\n",
    "    info(\"Start annealing...\")\n",
    "    while true\n",
    "        nextconfig!(grid)\n",
    "        scheduleNext(anneal) || break\n",
    "    end\n",
    "    info(\"Finished the annealing schedule.\")\n",
    "end"
   ]
  },
  {
   "cell_type": "code",
   "execution_count": null,
   "metadata": {
    "collapsed": false
   },
   "outputs": [],
   "source": [
    "function run!(grid::Array{Float64,4}, filename::ASCIIString, anneal::Schedule)\n",
    "    info(\"Start run...\")\n",
    "    thermalize!(grid)\n",
    "    annealing!(grid, anneal)\n",
    "    h5open(getPath(filename), \"w\") do file\n",
    "        conf, avg = initOutput(file)\n",
    "        snapshot(grid, conf, avg)\n",
    "        @showprogress 1 \"Compute configurations...\" for i = 1:pars.Nconfig::Int64-1\n",
    "            nextconfig!(grid)\n",
    "            snapshot(grid, conf, avg)\n",
    "        end\n",
    "        finalOutput(file, avg)\n",
    "    end\n",
    "    info(\"Finished run.\")\n",
    "    grid\n",
    "end\n",
    "\n",
    "@inline run(filename::ASCIIString, anneal::Schedule) = run!(initRandomGrid(), filename, anneal)"
   ]
  },
  {
   "cell_type": "markdown",
   "metadata": {},
   "source": [
    "## I/O"
   ]
  },
  {
   "cell_type": "code",
   "execution_count": null,
   "metadata": {
    "collapsed": false
   },
   "outputs": [],
   "source": [
    "function snapshot(grid::Array{Float64,4}, conf::HDF5Dataset, avg::HDF5Dataset)\n",
    "    res.os::Int64 += 1\n",
    "    res.E[res.os] = res.Etmp::Float64\n",
    "    res.M[:,res.os] = res.Mtmp::Vector{Float64}\n",
    "    res.T[res.os] = pars.T::Float64\n",
    "    mon.accRate[res.os] = mon.nacc::Int64 / (pars.Ntot::Int64 * pars.Nsweeps::Int64)\n",
    "    mon.nacc::Int64 = 0\n",
    "    appendConfig(grid, res.os, conf)\n",
    "    addConfig(grid, avg)\n",
    "end"
   ]
  },
  {
   "cell_type": "code",
   "execution_count": null,
   "metadata": {
    "collapsed": false
   },
   "outputs": [],
   "source": [
    "function initOutput(file::HDF5File)\n",
    "    conf = d_create(file, \"configs\", datatype(Float64), dataspace(3,pars.N,pars.N,pars.N,pars.Nconfig),\"chunk\",(3,pars.N,pars.N,pars.N,1))\n",
    "    avg = d_create(file, \"avg\", datatype(Float64), dataspace(3,pars.N,pars.N,pars.N))\n",
    "    info(\"Created output file.\")\n",
    "    (conf, avg)\n",
    "end"
   ]
  },
  {
   "cell_type": "code",
   "execution_count": null,
   "metadata": {
    "collapsed": false
   },
   "outputs": [],
   "source": [
    "function finalOutput(file::HDF5File, avg::HDF5Dataset)\n",
    "    file[\"energy\"] = res.E\n",
    "    file[\"magnetization\"] = res.M\n",
    "    file[\"temperature\"] = res.T\n",
    "    file[\"acceptancerate\"] = mon.accRate\n",
    "    writeParameters(file)\n",
    "    averageConfigs!(avg)\n",
    "    writeResultAndError(file, res.E, \"E_avg\")\n",
    "    writeResultAndError(file, getX(res.M), \"Mx_avg\")\n",
    "    writeResultAndError(file, getZ(res.M), \"My_avg\")\n",
    "    writeResultAndError(file, getZ(res.M), \"Mz_avg\")\n",
    "    writeResultAndError(file, res.E, \"specific_heat\", fun=specificHeat)\n",
    "    writeResultAndError(file, getZ(res.M), \"susceptibility\", fun=susceptibility)\n",
    "end"
   ]
  },
  {
   "cell_type": "code",
   "execution_count": null,
   "metadata": {
    "collapsed": false
   },
   "outputs": [],
   "source": [
    "function writeParameters(file::HDF5File)\n",
    "    file[\"parameters/N\"] = pars.N\n",
    "    file[\"parameters/Ntherm\"] = pars.Ntherm\n",
    "    file[\"parameters/Nsweeps\"] = pars.Nsweeps\n",
    "    file[\"parameters/Nconfig\"] = pars.Nconfig\n",
    "    file[\"parameters/J\"] = pars.J\n",
    "    file[\"parameters/Jp\"] = pars.Jp\n",
    "    file[\"parameters/K\"] = pars.K\n",
    "    file[\"parameters/Kp\"] = pars.Kp\n",
    "end"
   ]
  },
  {
   "cell_type": "code",
   "execution_count": null,
   "metadata": {
    "collapsed": false
   },
   "outputs": [],
   "source": [
    "@inline function writeResultAndError(file::HDF5File, res::Float64, err::Float64, dset::ASCIIString)\n",
    "    file[dset] = [res, err]\n",
    "end\n",
    "\n",
    "function writeResultAndError(file::HDF5File, f::Vector{Float64}, dset::ASCIIString; fun::Function=mean)\n",
    "    res = fun(f)\n",
    "    err = sqrt(jackknife(fun, f))\n",
    "    writeResultAndError(file, res, err, dset)\n",
    "end"
   ]
  },
  {
   "cell_type": "code",
   "execution_count": null,
   "metadata": {
    "collapsed": false
   },
   "outputs": [],
   "source": [
    "@inline function averageConfigs!(avg::HDF5Dataset)\n",
    "    avg[:,:,:,:] /= pars.Nconfig\n",
    "end"
   ]
  },
  {
   "cell_type": "code",
   "execution_count": null,
   "metadata": {
    "collapsed": false
   },
   "outputs": [],
   "source": [
    "@inline function appendConfig(grid::Array{Float64,4}, os::Int64, conf::HDF5Dataset)\n",
    "    conf[:,:,:,:,os] = grid\n",
    "end"
   ]
  },
  {
   "cell_type": "code",
   "execution_count": null,
   "metadata": {
    "collapsed": false
   },
   "outputs": [],
   "source": [
    "@inline function addConfig(grid::Array{Float64,4}, avg::HDF5Dataset)\n",
    "    avg[:,:,:,:] += grid\n",
    "end"
   ]
  },
  {
   "cell_type": "code",
   "execution_count": null,
   "metadata": {
    "collapsed": false
   },
   "outputs": [],
   "source": [
    "@inline getPath(filename::ASCIIString; ext::ASCIIString=\"h5\") = string(\"../../data/\", filename, \".\", ext)"
   ]
  },
  {
   "cell_type": "code",
   "execution_count": null,
   "metadata": {
    "collapsed": false
   },
   "outputs": [],
   "source": [
    "function loadData(filename::ASCIIString, dset::ASCIIString; group=nothing)\n",
    "    h5open(getPath(filename), \"r\") do file\n",
    "        if group == nothing\n",
    "            idx = dset\n",
    "        else\n",
    "            idx = string(group, \"/\", dset)\n",
    "        end\n",
    "        data = read(file[idx])\n",
    "    end\n",
    "end"
   ]
  },
  {
   "cell_type": "code",
   "execution_count": null,
   "metadata": {
    "collapsed": false
   },
   "outputs": [],
   "source": [
    "function loadParameters(filename::ASCIIString)\n",
    "    h5open(getPath(filename), \"r\") do f\n",
    "        pars.N = read(f[\"parameters/N\"])\n",
    "        pars.Ntot = pars.N^3\n",
    "        pars.Nconfig = read(f[\"parameters/Nconfig\"])\n",
    "        pars.Nsweeps = read(f[\"parameters/Nsweeps\"])\n",
    "        pars.Ntherm = read(f[\"parameters/Ntherm\"])\n",
    "        pars.T = read(f[\"temperature\"])[1]\n",
    "    end\n",
    "end"
   ]
  },
  {
   "cell_type": "markdown",
   "metadata": {},
   "source": [
    "## Postprocessing"
   ]
  },
  {
   "cell_type": "markdown",
   "metadata": {},
   "source": [
    "### Basic Statistics"
   ]
  },
  {
   "cell_type": "code",
   "execution_count": null,
   "metadata": {
    "collapsed": false
   },
   "outputs": [],
   "source": [
    "function autocorr(f::Vector{Float64})\n",
    "    mean, var = mean_and_var(f)\n",
    "    N = length(f)\n",
    "    fm = f - mean\n",
    "    auto = zeros(Float64, N)\n",
    "    for t=0:N-1\n",
    "        tmp = 0.0\n",
    "        for i=1:N-t\n",
    "            tmp += fm[i]*fm[i+t]\n",
    "        end\n",
    "        auto[t+1] = tmp / ((N-t)*var)\n",
    "    end\n",
    "    auto\n",
    "end"
   ]
  },
  {
   "cell_type": "code",
   "execution_count": null,
   "metadata": {
    "collapsed": false
   },
   "outputs": [],
   "source": [
    "function intAutoTime(f::Vector{Float64}, N::Int64; isautocorr=false)\n",
    "    isautocorr || (f = autocorr(f))\n",
    "    0.5 + sum(f[2:N])\n",
    "end\n",
    "\n",
    "@inline intAutoTime(f::Vector{Float64}; isautocorr=false) = intAutoTime(f, length(f), isautocorr=isautocorr)"
   ]
  },
  {
   "cell_type": "code",
   "execution_count": null,
   "metadata": {
    "collapsed": false
   },
   "outputs": [],
   "source": [
    "function jackknife(obs::Function, f::Vector{Float64})\n",
    "    N = length(f)\n",
    "    jack = [obs([f[1:i]; f[i+2:N]]) for i=0:N-1]\n",
    "    (N-1) * mean( (jack - mean(jack)).^2 )\n",
    "end\n",
    "\n",
    "@inline jackknife(f::Vector{Float64}) = jackknife(mean, f)"
   ]
  },
  {
   "cell_type": "markdown",
   "metadata": {},
   "source": [
    "### Skyrmion Specifics"
   ]
  },
  {
   "cell_type": "code",
   "execution_count": null,
   "metadata": {
    "collapsed": false
   },
   "outputs": [],
   "source": [
    "@inline getX(grid::Array{Float64}) = squeeze(grid[1,:],1)\n",
    "@inline getY(grid::Array{Float64}) = squeeze(grid[2,:],1)\n",
    "@inline getZ(grid::Array{Float64}) = squeeze(grid[3,:],1)\n",
    "@inline getX(grid::Array{Float64,4}) = squeeze(grid[1,:,:,:],1)\n",
    "@inline getY(grid::Array{Float64,4}) = squeeze(grid[2,:,:,:],1)\n",
    "@inline getZ(grid::Array{Float64,4}) = squeeze(grid[3,:,:,:],1)"
   ]
  },
  {
   "cell_type": "code",
   "execution_count": null,
   "metadata": {
    "collapsed": false
   },
   "outputs": [],
   "source": [
    "function drawProj(f::Array{Float64,3}, dir::Int64; name::ASCIIString=\"proj\", saveimg=false)\n",
    "    proj = squeeze(sum(f, dir), dir)\n",
    "    img = grayim( (proj/maximum(proj[:])).^6 )\n",
    "    saveimg && save(getPath(string(name, \"_\", dir), extension=\"png\"), img)\n",
    "    img\n",
    "end\n",
    "\n",
    "function drawProj(f::Array{Float64,3}; name::ASCIIString=\"proj\", save=false)\n",
    "    [drawProj(f, dir, name=name, save=save) for dir=1:3]\n",
    "end"
   ]
  },
  {
   "cell_type": "code",
   "execution_count": null,
   "metadata": {
    "collapsed": false
   },
   "outputs": [],
   "source": [
    "function braggIntensity(grid::Array{Float64,4})\n",
    "    Sk = fftVF(grid)\n",
    "    I = vcat(fld(pars.N,2)+1:pars.N, 1:fld(pars.N,2))\n",
    "    [norm(Sk[:,i,j,k])::Float64 for i=I, j=I, k=I]\n",
    "end"
   ]
  },
  {
   "cell_type": "code",
   "execution_count": null,
   "metadata": {
    "collapsed": false
   },
   "outputs": [],
   "source": [
    "function fftVF(grid::Array{Float64,4})\n",
    "    Sx = fft3(getX(grid), pars.N::Int64)\n",
    "    Sy = fft3(getY(grid), pars.N::Int64)\n",
    "    Sz = fft3(getZ(grid), pars.N::Int64)\n",
    "    S = zeros(Complex{Float64}, size(grid))\n",
    "    # TODO: this should be doable with smart stacking and reshape\n",
    "    for i=1:pars.Ntot::Int64\n",
    "        @inbounds S[:,i] = [Sx[i] Sy[i] Sz[i]]\n",
    "    end\n",
    "    S\n",
    "end"
   ]
  },
  {
   "cell_type": "code",
   "execution_count": null,
   "metadata": {
    "collapsed": false
   },
   "outputs": [],
   "source": [
    "function fft3(f::Array{Float64,3}, N::Int64)\n",
    "    FFTW.set_num_threads(4)\n",
    "    fft(f - mean(f[:]))\n",
    "end"
   ]
  },
  {
   "cell_type": "code",
   "execution_count": null,
   "metadata": {
    "collapsed": false
   },
   "outputs": [],
   "source": [
    "@inline specificHeat(f::Vector{Float64}) = var(f)/(pars.Ntot * pars.T^2)"
   ]
  },
  {
   "cell_type": "code",
   "execution_count": null,
   "metadata": {
    "collapsed": false
   },
   "outputs": [],
   "source": [
    "@inline susceptibility(f::Vector{Float64}) = var(f)/(pars.Ntot * pars.T)"
   ]
  },
  {
   "cell_type": "markdown",
   "metadata": {},
   "source": [
    "## Run the Simulation"
   ]
  },
  {
   "cell_type": "code",
   "execution_count": null,
   "metadata": {
    "collapsed": false
   },
   "outputs": [],
   "source": [
    "anneal = Schedule([0.8], [0.1])\n",
    "pars = Parameters(anneal, N=10, Ntherm=10, Nsweeps=10, Nconfig=10)\n",
    "mon, res = init(pars);\n",
    "pars.T, pars.B, pars.N, pars.Ntherm, pars.Nconfig"
   ]
  },
  {
   "cell_type": "code",
   "execution_count": null,
   "metadata": {
    "collapsed": false
   },
   "outputs": [],
   "source": [
    "@time run(\"N$(pars.N)_T$(pars.T)_B$(pars.B)\", anneal);"
   ]
  },
  {
   "cell_type": "markdown",
   "metadata": {},
   "source": [
    "## Analyse the Results"
   ]
  },
  {
   "cell_type": "markdown",
   "metadata": {},
   "source": [
    "### First Plots of a Single Run"
   ]
  },
  {
   "cell_type": "code",
   "execution_count": null,
   "metadata": {
    "collapsed": false
   },
   "outputs": [],
   "source": [
    "using PyPlot"
   ]
  },
  {
   "cell_type": "code",
   "execution_count": null,
   "metadata": {
    "collapsed": false
   },
   "outputs": [],
   "source": [
    "tMC = 1:pars.Nconfig\n",
    "plot(res.E)\n",
    "figure()\n",
    "plot(tMC, getX(res.M), tMC, getY(res.M), tMC, getZ(res.M))"
   ]
  },
  {
   "cell_type": "code",
   "execution_count": null,
   "metadata": {
    "collapsed": false
   },
   "outputs": [],
   "source": [
    "plot(autocor(res.E,0:pars.Nconfig-1))\n",
    "figure()\n",
    "plot(tMC, autocor(getX(res.M),0:pars.Nconfig-1),tMC, autocor(getY(res.M),0:pars.Nconfig-1),tMC, autocor(getZ(res.M),0:pars.Nconfig-1))"
   ]
  },
  {
   "cell_type": "code",
   "execution_count": null,
   "metadata": {
    "collapsed": false
   },
   "outputs": [],
   "source": [
    "plot(mon.accRate)"
   ]
  },
  {
   "cell_type": "markdown",
   "metadata": {},
   "source": [
    "### Bragg Intensity"
   ]
  },
  {
   "cell_type": "code",
   "execution_count": null,
   "metadata": {
    "collapsed": false
   },
   "outputs": [],
   "source": [
    "using Images"
   ]
  },
  {
   "cell_type": "code",
   "execution_count": null,
   "metadata": {
    "collapsed": false
   },
   "outputs": [],
   "source": [
    "name = \"highres/T0.8_B0.1_cmpct\"\n",
    "avg = loadData(name, \"avg\");\n",
    "bragg = braggIntensity(avg);"
   ]
  },
  {
   "cell_type": "code",
   "execution_count": null,
   "metadata": {
    "collapsed": false
   },
   "outputs": [],
   "source": [
    "drawProj(bragg, 1, saveimg=false)"
   ]
  },
  {
   "cell_type": "markdown",
   "metadata": {},
   "source": [
    "### Combine Multiple Runs"
   ]
  },
  {
   "cell_type": "code",
   "execution_count": null,
   "metadata": {
    "collapsed": false
   },
   "outputs": [],
   "source": [
    "# Deprecated\n",
    "function plotSpecificHeat(Ts, Bs)\n",
    "    d = zeros(length(Ts),length(Bs),2)\n",
    "    for (i,T) in enumerate(Ts), (j,B) in enumerate(Bs)\n",
    "        name = \"highres/T$(T)_B$(B)_cmpct\"\n",
    "        loadParameters(name)\n",
    "        tmp = loadData(name, \"energy\")\n",
    "        d[i, j, :] = [specificHeat(tmp), sqrt(jackknife(specificHeat, tmp))]\n",
    "    end\n",
    "    fig,ax = PyPlot.subplots()\n",
    "    for (i,B) in enumerate(Bs)\n",
    "        ax[:errorbar](Ts[4:end], d[4:end,i,1] + (i-1)*0.5, yerr=d[4:end,i,2], fmt=\".\", label=\"B=$(B)\")\n",
    "    end\n",
    "    ax[:legend](loc=\"best\")\n",
    "end\n",
    "\n",
    "# Deprecated\n",
    "function plotSusceptibility(Ts, Bs)\n",
    "    d = zeros(length(Ts),length(Bs),2)\n",
    "    for (i,T) in enumerate(Ts), (j,B) in enumerate(Bs)\n",
    "        name = \"highres/T$(T)_B$(B)_cmpct\"\n",
    "        loadParameters(name)\n",
    "        tmp = getZ(loadData(name, \"magnetization\"))\n",
    "        d[i, j, :] = [susceptibility(tmp), sqrt(jackknife(susceptibility, tmp))]\n",
    "    end\n",
    "    fig,ax = PyPlot.subplots()\n",
    "    for (i,B) in enumerate(Bs)\n",
    "        ax[:errorbar](Ts[4:end], d[4:end,i,1] + (i-1)*0.5, yerr=d[4:end,i,2], fmt=\".\", label=\"B=$(B)\")\n",
    "    end\n",
    "    ax[:legend](loc=\"best\")\n",
    "end\n",
    "\n",
    "function plotResult(Ts, Bs, dset)\n",
    "    data = [loadData(\"highres/T$(T)_B$(B)_cmpct\", dset) for T in Ts, B in Bs]\n",
    "    fig,ax = PyPlot.subplots()\n",
    "    for (i,B) in enumerate(Bs)\n",
    "        val = [data[j,i][1] for j in eachindex(Ts)]\n",
    "        err = [data[j,i][2] for j in eachindex(Ts)]\n",
    "        ax[:errorbar](Ts[5:end], val[5:end] + (i-1) * 0.5, yerr=err[5:end], fmt=\"o\", label=\"B=$(B)\")\n",
    "    end\n",
    "    ax[:legend](loc=\"best\")\n",
    "end"
   ]
  },
  {
   "cell_type": "code",
   "execution_count": null,
   "metadata": {
    "collapsed": false
   },
   "outputs": [],
   "source": [
    "Ts = 0.0:0.1:3.0\n",
    "Bs = [0.0 0.01 0.02 0.05 0.1 0.2 0.3 0.4]\n",
    "plotResult(Ts, Bs, \"specific_heat\")"
   ]
  },
  {
   "cell_type": "code",
   "execution_count": null,
   "metadata": {
    "collapsed": false
   },
   "outputs": [],
   "source": [
    "plotResult(Ts, Bs, \"susceptibility\")"
   ]
  },
  {
   "cell_type": "markdown",
   "metadata": {},
   "source": [
    "## Tests"
   ]
  },
  {
   "cell_type": "code",
   "execution_count": null,
   "metadata": {
    "collapsed": true
   },
   "outputs": [],
   "source": [
    "using Base.Test"
   ]
  },
  {
   "cell_type": "code",
   "execution_count": null,
   "metadata": {
    "collapsed": false
   },
   "outputs": [],
   "source": [
    "function testuniformS2()\n",
    "    N = 50\n",
    "    dims = (N, N, N)\n",
    "    grid = uniformS2(dims);\n",
    "    for i=1:*(dims...)\n",
    "        @test norm(grid[:,i]) ≈ 1.0\n",
    "    end\n",
    "    println(\"finished test: uniform points on S2\")\n",
    "end"
   ]
  },
  {
   "cell_type": "code",
   "execution_count": null,
   "metadata": {
    "collapsed": false
   },
   "outputs": [],
   "source": [
    "function test()\n",
    "    testuniformS2()\n",
    "    println(\"If you do not see any errors, all tests passed.\")\n",
    "end"
   ]
  }
 ],
 "metadata": {
  "kernelspec": {
   "display_name": "Julia 0.4.5",
   "language": "julia",
   "name": "julia-0.4"
  },
  "language_info": {
   "file_extension": ".jl",
   "mimetype": "application/julia",
   "name": "julia",
   "version": "0.4.5"
  }
 },
 "nbformat": 4,
 "nbformat_minor": 0
}
