{
 "cells": [
  {
   "cell_type": "markdown",
   "metadata": {},
   "source": [
    "# Simulated Annealing for a 3D Skyrmion Lattice"
   ]
  },
  {
   "cell_type": "markdown",
   "metadata": {},
   "source": [
    "## TODOS\n",
    "\n",
    "* Check indices throughout code, either switch fully to mod and smaller grid or avoid mod\n",
    "* Read and think about parallelization\n",
    "* Setup hdf5 output of complete configuration at snapshots\n",
    "* Put analysis in place: autocorrelation, phase diagram, etc.\n",
    "* Best way to setup parameterfile that i can control from the makefile?"
   ]
  },
  {
   "cell_type": "code",
   "execution_count": null,
   "metadata": {
    "collapsed": false,
    "scrolled": true
   },
   "outputs": [],
   "source": [
    "using PyCall\n",
    "using PyPlot\n",
    "using HDF5\n",
    "using StatsBase\n",
    "# using ParallelAccelerator\n",
    "# using Distributions\n",
    "using Base.Profile\n",
    "using Base.Test\n",
    "using ProgressMeter\n",
    "# @pyimport matplotlib.animation as anim"
   ]
  },
  {
   "cell_type": "markdown",
   "metadata": {},
   "source": [
    "## Parameters & Initialization"
   ]
  },
  {
   "cell_type": "code",
   "execution_count": null,
   "metadata": {
    "collapsed": true
   },
   "outputs": [],
   "source": [
    "srand(123);"
   ]
  },
  {
   "cell_type": "code",
   "execution_count": null,
   "metadata": {
    "collapsed": false
   },
   "outputs": [],
   "source": [
    "type Parameters\n",
    "    N::Int64 # number of lattice points in each direction\n",
    "    Ntot::Int64 # total number of lattice points\n",
    "    Nsweeps::Int64 # number of sweeps\n",
    "    Nconfig::Int64 # number of configurations to save\n",
    "    T::Float64 # the current temperature\n",
    "    Tmu::Float64 # the reduction factor of the temperature\n",
    "    Tmin::Float64 # the minimal temperature at which we stop\n",
    "    J::Float64 # ferromagnetic exchange\n",
    "    Jp::Float64 # ferromagnetic exchange of correction term\n",
    "    K::Float64 # DM interaction\n",
    "    Kp::Float64 # DM interaction of correction term\n",
    "    B::Float64 # magnetic field in 3 direction\n",
    "    function Parameters(; N::Int64=10, Nsweeps::Int64=30, Nconfig::Int64=100, T::Float64=1.0, Tmu::Float64=1.05, Tmin::Float64=1.0e-8, J::Float64=1.0, K::Float64=tan(2pi/10.0), B::Float64=0.0)\n",
    "        Ntot = N^3\n",
    "        Jp = J/16.0\n",
    "        Kp = K/8.0\n",
    "        new(N, Ntot, Nsweeps, Nconfig, T, Tmu, Tmin, J, Jp, K, Kp, B)\n",
    "    end\n",
    "end"
   ]
  },
  {
   "cell_type": "code",
   "execution_count": null,
   "metadata": {
    "collapsed": true
   },
   "outputs": [],
   "source": [
    "type Monitor\n",
    "    reject::Int64 # number of rejected steps\n",
    "    accept::Int64 # number of accepted steps\n",
    "    Monitor(; reject::Int64=0, accept::Int64=0) = new(reject, accept)\n",
    "end"
   ]
  },
  {
   "cell_type": "code",
   "execution_count": null,
   "metadata": {
    "collapsed": false
   },
   "outputs": [],
   "source": [
    "type Results\n",
    "    E::Vector{Float64} # total energy\n",
    "    Etmp::Float64 # current total energy\n",
    "    M::Array{Float64,2} # total magnetization\n",
    "    Mtmp::Vector{Float64} # current total magnetization\n",
    "    T::Vector{Float64} # temperature\n",
    "    idx::Int64 # current index (monte carlo time)\n",
    "    Results(pars::Parameters) = new(zeros(Float64, pars.Nconfig+1), 0.0, zeros(Float64, 3, pars.Nconfig+1), zeros(Float64, 3), zeros(Float64, pars.Nconfig+1), 0)\n",
    "end"
   ]
  },
  {
   "cell_type": "code",
   "execution_count": null,
   "metadata": {
    "collapsed": false
   },
   "outputs": [],
   "source": [
    "function uniformS2(dims::Tuple{Int64,Int64,Int64})\n",
    "    phi = 2pi .* rand(dims)\n",
    "    u = 2rand(dims) - 1.0\n",
    "    squ = sqrt(1.0 - u.*u)\n",
    "    x = squ .* cos(phi)\n",
    "    y = squ .* sin(phi)\n",
    "    arr = zeros(3,dims...)\n",
    "        for i=1:*(dims...)\n",
    "        @inbounds arr[:,i] = [x[i] y[i] u[i]]\n",
    "    end\n",
    "    info(\"Initialized random grid.\")\n",
    "    arr\n",
    "end\n",
    "\n",
    "@inline function uniformS2!(s::Vector{Float64})\n",
    "    phi = 2pi*rand()\n",
    "    u = 2rand() - 1.0\n",
    "    squ = sqrt(1.0 - u*u)\n",
    "    s[1] = squ*cos(phi)\n",
    "    s[2] = squ*sin(phi)\n",
    "    s[3] = u\n",
    "    nothing\n",
    "end"
   ]
  },
  {
   "cell_type": "code",
   "execution_count": null,
   "metadata": {
    "collapsed": false
   },
   "outputs": [],
   "source": [
    "function enforcePeriodicity!(grid::Array{Float64,4})\n",
    "    N = pars.N::Int64\n",
    "    for i = 1:2\n",
    "        grid[:,N+i,:,:] = grid[:,i,:,:]\n",
    "        grid[:,:,N+i,:] = grid[:,:,i,:]\n",
    "        grid[:,:,:,N+i] = grid[:,:,:,i]\n",
    "    end\n",
    "    nothing\n",
    "end\n",
    "\n",
    "function enforcePeriodicity!(grid::Array{Float64,4}, i::Int64, j::Int64, k::Int64)\n",
    "    N = pars.N::Int64\n",
    "    for os = 1:2\n",
    "        grid[:,N+os,j,k] = grid[:,os,j,k]\n",
    "        grid[:,j,N+os,k] = grid[:,i,os,k]\n",
    "        grid[:,i,j,N+os] = grid[:,i,j,os]\n",
    "    end\n",
    "    nothing\n",
    "end"
   ]
  },
  {
   "cell_type": "code",
   "execution_count": null,
   "metadata": {
    "collapsed": false
   },
   "outputs": [],
   "source": [
    "function isPeriodic(grid::Array{Float64,4})\n",
    "    N = pars.N::Int64\n",
    "    if grid[:,N+1,:,:] != grid[:,1,:,:] || grid[:,:,N+1,:] != grid[:,:,1,:] ||\n",
    "       grid[:,:,:,N+1] != grid[:,:,:,1] || grid[:,N+2,:,:] != grid[:,2,:,:] ||\n",
    "       grid[:,:,N+2,:] != grid[:,:,2,:] || grid[:,:,:,N+2] != grid[:,:,:,2]\n",
    "        return false\n",
    "    end\n",
    "    true\n",
    "end"
   ]
  },
  {
   "cell_type": "code",
   "execution_count": null,
   "metadata": {
    "collapsed": false
   },
   "outputs": [],
   "source": [
    "function initRandomGrid(dims::Tuple{Int64,Int64,Int64})\n",
    "    grid = uniformS2(dims)\n",
    "    enforcePeriodicity!(grid)\n",
    "    res.Etmp = totalEnergy(grid)\n",
    "    res.Mtmp = totalMagnetization(grid)\n",
    "    grid\n",
    "end"
   ]
  },
  {
   "cell_type": "code",
   "execution_count": null,
   "metadata": {
    "collapsed": false
   },
   "outputs": [],
   "source": [
    "function init(pars::Parameters)\n",
    "    (Monitor(), Results(pars))\n",
    "end\n",
    "\n",
    "function init()\n",
    "    pars = Parameters()\n",
    "    (pars, init(pars)...)\n",
    "end"
   ]
  },
  {
   "cell_type": "markdown",
   "metadata": {},
   "source": [
    "## Helper Functions"
   ]
  },
  {
   "cell_type": "code",
   "execution_count": null,
   "metadata": {
    "collapsed": false
   },
   "outputs": [],
   "source": [
    "function ensurePeriodicity!(grid::Array{Float64,4}, i::Int64, j::Int64, k::Int64)\n",
    "    i < 3 && (grid[:,i+N,j,k] = grid[:,i,j,k])\n",
    "    j < 3 && (grid[:,i,j+N,k] = grid[:,i,j,k])\n",
    "    k < 3 && (grid[:,i,j,k+N] = grid[:,i,j,k])\n",
    "end"
   ]
  },
  {
   "cell_type": "code",
   "execution_count": null,
   "metadata": {
    "collapsed": false
   },
   "outputs": [],
   "source": [
    "@inline function normalize!(grid::Array{Float64,4}, idx::Int64)\n",
    "    grid[:,idx] /= norm(grid[:,idx])\n",
    "end\n",
    "\n",
    "function normalize!(grid::Array{Float64,4})\n",
    "    for idx=1:pars.Ntot::Int64\n",
    "        @inbounds normalize!(grid, idx)\n",
    "    end\n",
    "end"
   ]
  },
  {
   "cell_type": "code",
   "execution_count": null,
   "metadata": {
    "collapsed": false
   },
   "outputs": [],
   "source": [
    "@inline crossX(a::Vector{Float64}, b::Vector{Float64}) = -a[3]*b[2] + a[2]*b[3]\n",
    "@inline crossY(a::Vector{Float64}, b::Vector{Float64}) =  a[3]*b[1] - a[1]*b[3]\n",
    "@inline crossZ(a::Vector{Float64}, b::Vector{Float64}) = -a[2]*b[1] + a[1]*b[2]"
   ]
  },
  {
   "cell_type": "code",
   "execution_count": null,
   "metadata": {
    "collapsed": false
   },
   "outputs": [],
   "source": [
    "@inline function DMterm(grid::Array{Float64,4}, i::Int64, j::Int64, k::Int64, os::Int64)\n",
    "    crossX(grid[:,i,j,k], grid[:,i+os,j,k]) +\n",
    "    crossY(grid[:,i,j,k], grid[:,i,j+os,k]) +\n",
    "    crossZ(grid[:,i,j,k], grid[:,i,j,k+os])\n",
    "end"
   ]
  },
  {
   "cell_type": "code",
   "execution_count": null,
   "metadata": {
    "collapsed": false
   },
   "outputs": [],
   "source": [
    "@inline function DMtermdiff(grid::Array{Float64,4}, sdiff::Vector{Float64}, i::Int64, j::Int64, k::Int64, os::Int64)\n",
    "    N = pars.N::Int64\n",
    "    crossX(sdiff, grid[:,i+os,j,k] - grid[:,mod(i-os-1,N)+1,j,k]) +\n",
    "    crossY(sdiff, grid[:,i,j+os,k] - grid[:,i,mod(j-os-1,N)+1,k]) +\n",
    "    crossZ(sdiff, grid[:,i,j,k+os] - grid[:,i,j,mod(k-os-1,N)+1])\n",
    "end"
   ]
  },
  {
   "cell_type": "code",
   "execution_count": null,
   "metadata": {
    "collapsed": false
   },
   "outputs": [],
   "source": [
    "@inline function FMcollect(grid::Array{Float64,4}, i::Int64, j::Int64, k::Int64, os::Int64)\n",
    "    N = pars.N::Int64\n",
    "    grid[:,mod(i+os-1,N)+1,j,k] + grid[:,i,mod(j+os-1,N)+1,k] + grid[:,i,j,mod(k+os-1,N)+1]\n",
    "end"
   ]
  },
  {
   "cell_type": "code",
   "execution_count": null,
   "metadata": {
    "collapsed": false
   },
   "outputs": [],
   "source": [
    "@inline function FMterm(grid::Array{Float64,4}, i::Int64, j::Int64, k::Int64, os::Int64)\n",
    "    dot(grid[:,i,j,k], FMcollect(grid, i, j, k, os))\n",
    "end"
   ]
  },
  {
   "cell_type": "markdown",
   "metadata": {},
   "source": [
    "## Output"
   ]
  },
  {
   "cell_type": "code",
   "execution_count": null,
   "metadata": {
    "collapsed": false
   },
   "outputs": [],
   "source": [
    "function getPath(filename::ASCIIString)\n",
    "    datadir = \"../../data/\"\n",
    "    string(datadir, filename, \".h5\")\n",
    "#     string(filename, \".h5\")\n",
    "end"
   ]
  },
  {
   "cell_type": "code",
   "execution_count": null,
   "metadata": {
    "collapsed": false
   },
   "outputs": [],
   "source": [
    "function writeArray(data::Array{Float64}, filename::ASCIIString, dataset::ASCIIString=filename)\n",
    "    h5write(getPath(filename), dataset, data)\n",
    "end"
   ]
  },
  {
   "cell_type": "code",
   "execution_count": null,
   "metadata": {
    "collapsed": true
   },
   "outputs": [],
   "source": [
    "function writeGrid(grid::Array{Float64,4}, filename::ASCIIString)\n",
    "    writeArray(grid[:, 1:pars.N, 1:pars.N, 1:pars.N], filename, dataset=\"grid\")\n",
    "end"
   ]
  },
  {
   "cell_type": "code",
   "execution_count": null,
   "metadata": {
    "collapsed": false
   },
   "outputs": [],
   "source": [
    "@inline function snapshot()\n",
    "    res.idx::Int64 += 1\n",
    "    res.E[res.idx] = res.Etmp::Float64\n",
    "    res.M[:,res.idx] = res.Mtmp::Vector{Float64}\n",
    "    res.T[res.idx] = pars.T::Float64\n",
    "end"
   ]
  },
  {
   "cell_type": "markdown",
   "metadata": {},
   "source": [
    "## Simulated Annealing"
   ]
  },
  {
   "cell_type": "code",
   "execution_count": null,
   "metadata": {
    "collapsed": false
   },
   "outputs": [],
   "source": [
    "@inline stepT!() = (pars.T::Float64 /= pars.Tmu::Float64)"
   ]
  },
  {
   "cell_type": "code",
   "execution_count": null,
   "metadata": {
    "collapsed": false
   },
   "outputs": [],
   "source": [
    "@inline acceptProb(del::Float64, T::Float64) = exp(-del/T)"
   ]
  },
  {
   "cell_type": "code",
   "execution_count": null,
   "metadata": {
    "collapsed": false
   },
   "outputs": [],
   "source": [
    "function totalEnergy(grid::Array{Float64,4})\n",
    "    E = 0.0\n",
    "    N = pars.N::Int64\n",
    "    for k=1:N, j=1:N, i=1:N\n",
    "        E += -pars.J * FMterm(grid, i, j, k, 1) +\n",
    "             pars.Jp * FMterm(grid, i, j, k, 2) -\n",
    "             pars.B * grid[3,i,j,k] -\n",
    "             pars.K  * DMterm(grid, i, j, k, 1) +\n",
    "             pars.Kp * DMterm(grid, i, j, k, 2)\n",
    "    end\n",
    "    E\n",
    "end"
   ]
  },
  {
   "cell_type": "code",
   "execution_count": null,
   "metadata": {
    "collapsed": false
   },
   "outputs": [],
   "source": [
    "function totalMagnetization(grid::Array{Float64,4})\n",
    "    M = zeros(Float64, 3)\n",
    "    for idx=1:pars.Ntot::Int64\n",
    "        @inbounds M += grid[:,idx]\n",
    "    end\n",
    "    M\n",
    "end"
   ]
  },
  {
   "cell_type": "code",
   "execution_count": null,
   "metadata": {
    "collapsed": false
   },
   "outputs": [],
   "source": [
    "function energyChange(grid::Array{Float64,4}, snew::Vector{Float64}, i::Int64, j::Int64, k::Int64)\n",
    "    sdiff = snew - grid[:,i,j,k]\n",
    "    -pars.B::Float64 * sdiff[3] -\n",
    "    pars.J::Float64 * dot(sdiff, FMcollect(grid, i, j, k, 1) + FMcollect(grid, i, j, k, -1)) +\n",
    "    pars.Jp::Float64 * dot(sdiff, FMcollect(grid, i, j, k, 2) + FMcollect(grid, i, j, k, -2)) -\n",
    "    pars.K::Float64 * DMtermdiff(grid, sdiff, i, j, k, 1) +\n",
    "    pars.Kp::Float64 * DMtermdiff(grid, sdiff, i, j, k, 2)\n",
    "end"
   ]
  },
  {
   "cell_type": "code",
   "execution_count": null,
   "metadata": {
    "collapsed": false
   },
   "outputs": [],
   "source": [
    "function acceptMove!(grid::Array{Float64,4}, snew::Vector{Float64}, dE::Float64, i::Int64, j::Int64, k::Int64)\n",
    "    mon.accept::Int64 += 1\n",
    "    res.Etmp::Float64 += dE\n",
    "    res.Mtmp::Vector{Float64} += snew - grid[:,i,j,k]\n",
    "    grid[:,i,j,k] = snew\n",
    "    ensurePeriodicity!(grid, i, j, k)\n",
    "end"
   ]
  },
  {
   "cell_type": "code",
   "execution_count": null,
   "metadata": {
    "collapsed": false
   },
   "outputs": [],
   "source": [
    "function update!(grid::Array{Float64,4}, snew::Vector{Float64})\n",
    "    i,j,k = rand(1:pars.N::Int64, 3)\n",
    "    uniformS2!(snew)\n",
    "    dE = energyChange(grid, snew, i, j, k)\n",
    "    if dE < 0.0 || acceptProb(dE, pars.T::Float64) >= rand()\n",
    "        acceptMove!(grid, snew, dE, i, j, k)\n",
    "    else\n",
    "        mon.reject::Int64 += 1\n",
    "    end\n",
    "end"
   ]
  },
  {
   "cell_type": "code",
   "execution_count": null,
   "metadata": {
    "collapsed": false
   },
   "outputs": [],
   "source": [
    "@inline function nextsweep!(grid::Array{Float64,4}, snew::Vector{Float64})\n",
    "    for i=1:pars.Ntot::Int64\n",
    "        update!(grid, snew)\n",
    "    end\n",
    "end"
   ]
  },
  {
   "cell_type": "code",
   "execution_count": null,
   "metadata": {
    "collapsed": false
   },
   "outputs": [],
   "source": [
    "function nextconfig!(grid::Array{Float64,4})\n",
    "    snew = zeros(Float64, 3)\n",
    "    for j=1:pars.Nsweeps::Int64\n",
    "        nextsweep!(grid, snew)\n",
    "    end\n",
    "end"
   ]
  },
  {
   "cell_type": "code",
   "execution_count": null,
   "metadata": {
    "collapsed": false
   },
   "outputs": [],
   "source": [
    "function thermalize!(grid::Array{Float64,4})\n",
    "    snew = zeros(Float64, 3)\n",
    "    snapshot()\n",
    "    @showprogress 1 \"Thermalizing...\" for i=1:pars.Nconfig::Int64\n",
    "        nextsweep!(grid, snew)\n",
    "        snapshot()\n",
    "    end\n",
    "    grid\n",
    "end"
   ]
  },
  {
   "cell_type": "code",
   "execution_count": null,
   "metadata": {
    "collapsed": false
   },
   "outputs": [],
   "source": [
    "function run(grid::Array{Float64,4})\n",
    "    snapshot()\n",
    "    @showprogress 1 \"Main run...\" for i = 1:pars.Nconfig::Int64\n",
    "        nextconfig!(grid)\n",
    "        snapshot()\n",
    "        stepT!()\n",
    "        pars.T < pars.Tmin::Float64 && (info(\"Cooled below minimal temperature: $(pars.Tmin)\"); break)\n",
    "    end\n",
    "    grid\n",
    "end\n",
    "\n",
    "function run()\n",
    "    dims = (pars.N+2, pars.N+2, pars.N+2)\n",
    "    grid = initRandomGrid(dims)\n",
    "    run(grid)\n",
    "    grid\n",
    "end"
   ]
  },
  {
   "cell_type": "markdown",
   "metadata": {},
   "source": [
    "## Postprocessing"
   ]
  },
  {
   "cell_type": "code",
   "execution_count": null,
   "metadata": {
    "collapsed": false
   },
   "outputs": [],
   "source": [
    "@inline averageSpins(M::Array{Float64,2}) = M/pars.Ntot\n",
    "\n",
    "@inline averageSpins!(M::Array{Float64,2}) = (M /= pars.Ntot; nothing)"
   ]
  },
  {
   "cell_type": "code",
   "execution_count": null,
   "metadata": {
    "collapsed": false
   },
   "outputs": [],
   "source": [
    "@inline getX(grid::Array{Float64}) = squeeze(grid[1,:],1)\n",
    "@inline getY(grid::Array{Float64}) = squeeze(grid[2,:],1)\n",
    "@inline getZ(grid::Array{Float64}) = squeeze(grid[3,:],1)"
   ]
  },
  {
   "cell_type": "code",
   "execution_count": null,
   "metadata": {
    "collapsed": false
   },
   "outputs": [],
   "source": [
    "function avgConfigs()\n",
    "end"
   ]
  },
  {
   "cell_type": "code",
   "execution_count": null,
   "metadata": {
    "collapsed": false
   },
   "outputs": [],
   "source": [
    "function braggIntensity(S::Array{Float64,2})\n",
    "end"
   ]
  },
  {
   "cell_type": "code",
   "execution_count": null,
   "metadata": {
    "collapsed": false
   },
   "outputs": [],
   "source": [
    "function fft3(f::Array{Float64,3}, N::Int64)\n",
    "    FFTW.set_num_threads(4)\n",
    "    fft(f,(N, N, N))\n",
    "end"
   ]
  },
  {
   "cell_type": "code",
   "execution_count": null,
   "metadata": {
    "collapsed": false
   },
   "outputs": [],
   "source": [
    "function variance_meansq(f::Array{Float64}; mean=nothing, meansq=nothing)\n",
    "    if meansq == nothing\n",
    "        if mean == nothing\n",
    "            mean::Float64 = Base.mean(f)\n",
    "        end\n",
    "        meansq = mean*mean\n",
    "    end\n",
    "    (sumabs2(f)/length(f) - meansq, meansq)\n",
    "end"
   ]
  },
  {
   "cell_type": "code",
   "execution_count": null,
   "metadata": {
    "collapsed": false
   },
   "outputs": [],
   "source": [
    "function autocorr(f::Vector{Float64})\n",
    "    meansq, var = variance_meansq(f)\n",
    "    N = length(f)\n",
    "    auto = zeros(Float64, N)\n",
    "    for t=0:N-1\n",
    "        tmp = 0.0\n",
    "        for i=1:N-t\n",
    "            tmp += f[i]*f[i+t]\n",
    "        end\n",
    "        auto[t+1] = (tmp/(N-t) - meansq) / var\n",
    "    end\n",
    "    auto\n",
    "end"
   ]
  },
  {
   "cell_type": "code",
   "execution_count": null,
   "metadata": {
    "collapsed": false
   },
   "outputs": [],
   "source": [
    "function intAutoTime(f::Vector{Float64})\n",
    "    0.5 + sum(autocorr(f)[2:end])\n",
    "end"
   ]
  },
  {
   "cell_type": "markdown",
   "metadata": {},
   "source": [
    "## Run the Simulation"
   ]
  },
  {
   "cell_type": "code",
   "execution_count": null,
   "metadata": {
    "collapsed": false
   },
   "outputs": [],
   "source": [
    "pars = Parameters(N=30, Nsweeps=30, Nconfig=10000, T=0.0)\n",
    "mon, res = init(pars);"
   ]
  },
  {
   "cell_type": "code",
   "execution_count": null,
   "metadata": {
    "collapsed": false
   },
   "outputs": [],
   "source": [
    "pars.T, pars.B, pars.J, pars.K, pars.N, pars.Nconfig"
   ]
  },
  {
   "cell_type": "code",
   "execution_count": null,
   "metadata": {
    "collapsed": false
   },
   "outputs": [],
   "source": [
    "@time grid = thermalize!(initRandomGrid((pars.N+2,pars.N+2,pars.N+2)));"
   ]
  },
  {
   "cell_type": "code",
   "execution_count": null,
   "metadata": {
    "collapsed": false
   },
   "outputs": [],
   "source": [
    "writeArray(grid, \"T0_N30\", \"grid\")"
   ]
  },
  {
   "cell_type": "code",
   "execution_count": null,
   "metadata": {
    "collapsed": false
   },
   "outputs": [],
   "source": [
    "intAutoTime(res.E)"
   ]
  },
  {
   "cell_type": "code",
   "execution_count": null,
   "metadata": {
    "collapsed": false
   },
   "outputs": [],
   "source": [
    "plot(res.E)"
   ]
  },
  {
   "cell_type": "code",
   "execution_count": null,
   "metadata": {
    "collapsed": false
   },
   "outputs": [],
   "source": [
    "plot(autocor(res.E))"
   ]
  },
  {
   "cell_type": "code",
   "execution_count": null,
   "metadata": {
    "collapsed": false
   },
   "outputs": [],
   "source": [
    "plot(autocorr(res.E)[1:500])"
   ]
  },
  {
   "cell_type": "code",
   "execution_count": null,
   "metadata": {
    "collapsed": false
   },
   "outputs": [],
   "source": [
    "plot(autocor(res.E, 0:length(res.E)-1)[1:500])"
   ]
  },
  {
   "cell_type": "code",
   "execution_count": null,
   "metadata": {
    "collapsed": false
   },
   "outputs": [],
   "source": [
    "plot(autocor(res.E, 0:length(res.E)-1))"
   ]
  },
  {
   "cell_type": "code",
   "execution_count": null,
   "metadata": {
    "collapsed": false
   },
   "outputs": [],
   "source": [
    "# Profile.clear()\n",
    "# Profile.init()\n",
    "@time run();"
   ]
  },
  {
   "cell_type": "code",
   "execution_count": null,
   "metadata": {
    "collapsed": false
   },
   "outputs": [],
   "source": [
    "# data, lidict = Profile.retrieve();"
   ]
  },
  {
   "cell_type": "markdown",
   "metadata": {},
   "source": [
    "## Tests"
   ]
  },
  {
   "cell_type": "code",
   "execution_count": null,
   "metadata": {
    "collapsed": false
   },
   "outputs": [],
   "source": [
    "function testuniformS2()\n",
    "    N = 50\n",
    "    dims = (N, N, N)\n",
    "    grid = uniformS2(dims);\n",
    "    for i=1:*(dims...)\n",
    "        @test norm(grid[:,i]) ≈ 1.0\n",
    "    end\n",
    "    println(\"finished test: uniform points on S2\")\n",
    "end"
   ]
  },
  {
   "cell_type": "code",
   "execution_count": null,
   "metadata": {
    "collapsed": false
   },
   "outputs": [],
   "source": [
    "function test()\n",
    "    testuniformS2()\n",
    "    println(\"If you do not see any errors, all tests passed.\")\n",
    "end\n",
    "@time test()"
   ]
  }
 ],
 "metadata": {
  "kernelspec": {
   "display_name": "Julia 0.4.5",
   "language": "julia",
   "name": "julia-0.4"
  },
  "language_info": {
   "file_extension": ".jl",
   "mimetype": "application/julia",
   "name": "julia",
   "version": "0.4.5"
  }
 },
 "nbformat": 4,
 "nbformat_minor": 0
}
